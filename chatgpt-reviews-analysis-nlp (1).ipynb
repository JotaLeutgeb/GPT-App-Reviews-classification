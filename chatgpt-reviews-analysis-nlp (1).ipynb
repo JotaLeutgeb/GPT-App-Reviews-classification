{
 "cells": [
  {
   "cell_type": "markdown",
   "id": "31d581c9",
   "metadata": {
    "id": "2d1H-N-DwZ0j",
    "papermill": {
     "duration": 0.015373,
     "end_time": "2025-03-07T01:50:32.202565",
     "exception": false,
     "start_time": "2025-03-07T01:50:32.187192",
     "status": "completed"
    },
    "tags": []
   },
   "source": [
    "# Acerca del dataset"
   ]
  },
  {
   "cell_type": "markdown",
   "id": "d805377a",
   "metadata": {
    "id": "z_yJvEdSwZ0m",
    "papermill": {
     "duration": 0.011904,
     "end_time": "2025-03-07T01:50:32.227201",
     "exception": false,
     "start_time": "2025-03-07T01:50:32.215297",
     "status": "completed"
    },
    "tags": []
   },
   "source": [
    "Para este estudio se utilizarán 3 datasets diferentes para diferentes finalidades.\n",
    "\n",
    "Los 3 consisten en reviews provenientes de USA de la app de chatgpt en andriod.\n",
    "\n",
    "Se tiene como objetivo utilizar NLP para hacer uso del comentario de esas reviews, y en una instancia avanzada, clasificar los comentarios entre buenos y malos.\n",
    "\n",
    "Al final, uno de esos 3 datasets se utilizará para validar el mejor modelo al que se llegue.\n",
    "\n"
   ]
  },
  {
   "cell_type": "markdown",
   "id": "78255050",
   "metadata": {
    "id": "cjYOyDCx45rp",
    "papermill": {
     "duration": 0.011942,
     "end_time": "2025-03-07T01:50:32.252083",
     "exception": false,
     "start_time": "2025-03-07T01:50:32.240141",
     "status": "completed"
    },
    "tags": []
   },
   "source": [
    "Variables:\n",
    "\n",
    "- userName: Nombre de usuario\n",
    "- content: Opinión escrito de la review (texto)\n",
    "- score: Puntuación de la review (1 - 5)\n",
    "- thumbsUpCount: Cantidad de me gustas a la review\n",
    "- at: fecha y hora en la que se realizó."
   ]
  },
  {
   "cell_type": "markdown",
   "id": "df7d7ae8",
   "metadata": {
    "id": "iLg3e87A09EF",
    "papermill": {
     "duration": 0.012234,
     "end_time": "2025-03-07T01:50:32.276797",
     "exception": false,
     "start_time": "2025-03-07T01:50:32.264563",
     "status": "completed"
    },
    "tags": []
   },
   "source": [
    "# Importaciones"
   ]
  },
  {
   "cell_type": "code",
   "execution_count": 1,
   "id": "a9e95ebb",
   "metadata": {
    "execution": {
     "iopub.execute_input": "2025-03-07T01:50:32.306977Z",
     "iopub.status.busy": "2025-03-07T01:50:32.306663Z",
     "iopub.status.idle": "2025-03-07T01:50:52.098993Z",
     "shell.execute_reply": "2025-03-07T01:50:52.097167Z"
    },
    "id": "bJlRalFs0uC_",
    "outputId": "683191e9-f9dd-4ddf-f330-a8bc64693789",
    "papermill": {
     "duration": 19.809138,
     "end_time": "2025-03-07T01:50:52.101059",
     "exception": false,
     "start_time": "2025-03-07T01:50:32.291921",
     "status": "completed"
    },
    "tags": []
   },
   "outputs": [
    {
     "name": "stdout",
     "output_type": "stream",
     "text": [
      "Requirement already satisfied: emoji in /usr/local/lib/python3.10/dist-packages (2.14.1)\r\n",
      "[nltk_data] Downloading package stopwords to /usr/share/nltk_data...\n",
      "[nltk_data]   Unzipping corpora/stopwords.zip.\n",
      "[nltk_data] Downloading package punkt to /usr/share/nltk_data...\n",
      "[nltk_data]   Package punkt is already up-to-date!\n"
     ]
    }
   ],
   "source": [
    "import os\n",
    "\n",
    "import pandas as pd\n",
    "import numpy as np\n",
    "\n",
    "#Cleaning y prepro\n",
    "import regex as re\n",
    "import string\n",
    "from textblob import TextBlob\n",
    "\n",
    "!pip install emoji\n",
    "import emoji\n",
    "\n",
    "import nltk\n",
    "nltk.download('stopwords')\n",
    "from nltk.corpus import stopwords\n",
    "\n",
    "#Tokenización\n",
    "from nltk.tokenize import word_tokenize,sent_tokenize\n",
    "import spacy\n",
    "nltk.download('punkt')\n",
    "\n",
    "#visualizacion\n",
    "import matplotlib.pyplot as plt\n",
    "import seaborn as sns\n",
    "\n",
    "#Encoding\n",
    "from sklearn.feature_extraction.text import CountVectorizer, TfidfVectorizer\n",
    "\n",
    "#Modelado\n",
    "from sklearn.model_selection import train_test_split\n",
    "\n",
    "#Modelos clasificación\n",
    "from sklearn.linear_model import LogisticRegression\n",
    "from sklearn.tree import DecisionTreeClassifier\n",
    "from sklearn.ensemble import RandomForestClassifier, GradientBoostingClassifier\n",
    "from sklearn.neighbors import KNeighborsClassifier\n",
    "import xgboost as xgb\n",
    "\n",
    "\n",
    "#Métricas\n",
    "from sklearn.metrics import accuracy_score, classification_report\n",
    "from sklearn.metrics import confusion_matrix\n",
    "\n",
    "import warnings\n",
    "warnings.filterwarnings('ignore')\n"
   ]
  },
  {
   "cell_type": "markdown",
   "id": "8f165f26",
   "metadata": {
    "id": "PCjMVWeYJTaZ",
    "papermill": {
     "duration": 0.013108,
     "end_time": "2025-03-07T01:50:52.128959",
     "exception": false,
     "start_time": "2025-03-07T01:50:52.115851",
     "status": "completed"
    },
    "tags": []
   },
   "source": [
    "# Descarga datasets"
   ]
  },
  {
   "cell_type": "code",
   "execution_count": 2,
   "id": "a227eb8f",
   "metadata": {
    "execution": {
     "iopub.execute_input": "2025-03-07T01:50:52.155705Z",
     "iopub.status.busy": "2025-03-07T01:50:52.155092Z",
     "iopub.status.idle": "2025-03-07T01:51:02.511287Z",
     "shell.execute_reply": "2025-03-07T01:51:02.509803Z"
    },
    "id": "TLMhzx-DxJAt",
    "outputId": "aeb73fe8-2c37-489b-e9c2-3c0f4e611ca6",
    "papermill": {
     "duration": 10.371105,
     "end_time": "2025-03-07T01:51:02.512872",
     "exception": false,
     "start_time": "2025-03-07T01:50:52.141767",
     "status": "completed"
    },
    "tags": []
   },
   "outputs": [
    {
     "name": "stdout",
     "output_type": "stream",
     "text": [
      "Dataset URL: https://www.kaggle.com/datasets/ashishkumarak/chatgpt-reviews-daily-updated\r\n",
      "License(s): CC-BY-NC-SA-4.0\r\n",
      "Downloading chatgpt-reviews-daily-updated.zip to /kaggle/working\r\n",
      " 94%|███████████████████████████████████▊  | 22.0M/23.3M [00:01<00:00, 15.9MB/s]\r\n",
      "100%|██████████████████████████████████████| 23.3M/23.3M [00:01<00:00, 14.6MB/s]\r\n",
      "Dataset URL: https://www.kaggle.com/datasets/bhavikjikadara/chatgpt-user-feedback\r\n",
      "License(s): MIT\r\n",
      "Downloading chatgpt-user-feedback.zip to /kaggle/working\r\n",
      " 73%|███████████████████████████▉          | 4.00M/5.45M [00:00<00:00, 5.88MB/s]\r\n",
      "100%|██████████████████████████████████████| 5.45M/5.45M [00:01<00:00, 5.56MB/s]\r\n",
      "Dataset URL: https://www.kaggle.com/datasets/humairmunir/chatgpt-reviews\r\n",
      "License(s): CC-BY-NC-SA-4.0\r\n",
      "Downloading chatgpt-reviews.zip to /kaggle/working\r\n",
      " 60%|██████████████████████▊               | 4.00M/6.66M [00:00<00:00, 5.89MB/s]\r\n",
      "100%|██████████████████████████████████████| 6.66M/6.66M [00:01<00:00, 6.55MB/s]\r\n",
      "Archive:  chatgpt-reviews-daily-updated.zip\r\n",
      "  inflating: /content/chatgpt_reviews.csv  \r\n",
      "Archive:  chatgpt-user-feedback.zip\r\n",
      "  inflating: /content/clean_chatgpt_reviews.csv  \r\n",
      "Archive:  chatgpt-reviews.zip\r\n",
      "  inflating: /content/GPT_reviews.csv  \r\n",
      "Archivos descargados y descomprimidos correctamente.\n"
     ]
    }
   ],
   "source": [
    "# Descargar los datasets si no existen\n",
    "if not os.path.exists('/content/chatgpt_reviews.csv') or not os.path.exists('/content/clean_chatgpt_reviews.csv') or not os.path.exists('/content/GPT_reviews.csv'):\n",
    "    # Descargar datasets\n",
    "    !kaggle datasets download -d ashishkumarak/chatgpt-reviews-daily-updated\n",
    "    !kaggle datasets download -d bhavikjikadara/chatgpt-user-feedback\n",
    "    !kaggle datasets download -d humairmunir/chatgpt-reviews\n",
    "\n",
    "    # Descomprimir los archivos descargados\n",
    "    !unzip -o chatgpt-reviews-daily-updated.zip -d /content/\n",
    "    !unzip -o chatgpt-user-feedback.zip -d /content/\n",
    "    !unzip -o chatgpt-reviews.zip -d /content/\n",
    "\n",
    "    print(\"Archivos descargados y descomprimidos correctamente.\")\n",
    "else:\n",
    "    print(\"Los archivos ya están cargados.\")"
   ]
  },
  {
   "cell_type": "code",
   "execution_count": 3,
   "id": "a01924f5",
   "metadata": {
    "execution": {
     "iopub.execute_input": "2025-03-07T01:51:02.544383Z",
     "iopub.status.busy": "2025-03-07T01:51:02.543983Z",
     "iopub.status.idle": "2025-03-07T01:51:04.619278Z",
     "shell.execute_reply": "2025-03-07T01:51:04.617780Z"
    },
    "id": "T2-t8oo7xTb9",
    "papermill": {
     "duration": 2.0925,
     "end_time": "2025-03-07T01:51:04.621086",
     "exception": false,
     "start_time": "2025-03-07T01:51:02.528586",
     "status": "completed"
    },
    "tags": []
   },
   "outputs": [],
   "source": [
    "# Leemos los archivos CSV\n",
    "df = pd.read_csv('/content/chatgpt_reviews.csv')\n",
    "val = pd.read_csv('/content/GPT_reviews.csv')\n",
    "\n",
    "#Este datast lo guardamos para hacer el test psoteriormente\n",
    "test = pd.read_csv('/content/clean_chatgpt_reviews.csv')\n"
   ]
  },
  {
   "cell_type": "markdown",
   "id": "a8793c14",
   "metadata": {
    "id": "jtVhMmcgJVqG",
    "papermill": {
     "duration": 0.014898,
     "end_time": "2025-03-07T01:51:04.652475",
     "exception": false,
     "start_time": "2025-03-07T01:51:04.637577",
     "status": "completed"
    },
    "tags": []
   },
   "source": [
    "Como se puede ver, se descargaron 3 datasets. Con ellos se harán 2 estudios.\n",
    "\n",
    "\n"
   ]
  },
  {
   "cell_type": "code",
   "execution_count": 4,
   "id": "a2fdf9a7",
   "metadata": {
    "execution": {
     "iopub.execute_input": "2025-03-07T01:51:04.683063Z",
     "iopub.status.busy": "2025-03-07T01:51:04.682726Z",
     "iopub.status.idle": "2025-03-07T01:51:04.711895Z",
     "shell.execute_reply": "2025-03-07T01:51:04.710785Z"
    },
    "id": "cYzJ-hVVguI3",
    "outputId": "c5818379-ed2a-409f-aab9-4b14819dcece",
    "papermill": {
     "duration": 0.045423,
     "end_time": "2025-03-07T01:51:04.713241",
     "exception": false,
     "start_time": "2025-03-07T01:51:04.667818",
     "status": "completed"
    },
    "tags": []
   },
   "outputs": [
    {
     "data": {
      "text/html": [
       "<div>\n",
       "<style scoped>\n",
       "    .dataframe tbody tr th:only-of-type {\n",
       "        vertical-align: middle;\n",
       "    }\n",
       "\n",
       "    .dataframe tbody tr th {\n",
       "        vertical-align: top;\n",
       "    }\n",
       "\n",
       "    .dataframe thead th {\n",
       "        text-align: right;\n",
       "    }\n",
       "</style>\n",
       "<table border=\"1\" class=\"dataframe\">\n",
       "  <thead>\n",
       "    <tr style=\"text-align: right;\">\n",
       "      <th></th>\n",
       "      <th>reviewId</th>\n",
       "      <th>userName</th>\n",
       "      <th>content</th>\n",
       "      <th>score</th>\n",
       "      <th>thumbsUpCount</th>\n",
       "      <th>reviewCreatedVersion</th>\n",
       "      <th>at</th>\n",
       "      <th>appVersion</th>\n",
       "    </tr>\n",
       "  </thead>\n",
       "  <tbody>\n",
       "    <tr>\n",
       "      <th>0</th>\n",
       "      <td>94d71a08-6fa0-4092-87a2-c81c8bbe19b4</td>\n",
       "      <td>Sahil Shing</td>\n",
       "      <td>nice au</td>\n",
       "      <td>4</td>\n",
       "      <td>0</td>\n",
       "      <td>1.2025.056</td>\n",
       "      <td>2025-03-05 14:49:46</td>\n",
       "      <td>1.2025.056</td>\n",
       "    </tr>\n",
       "    <tr>\n",
       "      <th>1</th>\n",
       "      <td>cf01a8c0-25a3-4ad2-bc0e-49b44f6ca12c</td>\n",
       "      <td>AKASH Nath</td>\n",
       "      <td>very good</td>\n",
       "      <td>5</td>\n",
       "      <td>0</td>\n",
       "      <td>1.2025.056</td>\n",
       "      <td>2025-03-05 14:49:41</td>\n",
       "      <td>1.2025.056</td>\n",
       "    </tr>\n",
       "  </tbody>\n",
       "</table>\n",
       "</div>"
      ],
      "text/plain": [
       "                               reviewId     userName    content  score  \\\n",
       "0  94d71a08-6fa0-4092-87a2-c81c8bbe19b4  Sahil Shing    nice au      4   \n",
       "1  cf01a8c0-25a3-4ad2-bc0e-49b44f6ca12c   AKASH Nath  very good      5   \n",
       "\n",
       "   thumbsUpCount reviewCreatedVersion                   at  appVersion  \n",
       "0              0           1.2025.056  2025-03-05 14:49:46  1.2025.056  \n",
       "1              0           1.2025.056  2025-03-05 14:49:41  1.2025.056  "
      ]
     },
     "execution_count": 4,
     "metadata": {},
     "output_type": "execute_result"
    }
   ],
   "source": [
    "df.head(2)"
   ]
  },
  {
   "cell_type": "code",
   "execution_count": 5,
   "id": "28dc539c",
   "metadata": {
    "execution": {
     "iopub.execute_input": "2025-03-07T01:51:04.744607Z",
     "iopub.status.busy": "2025-03-07T01:51:04.744216Z",
     "iopub.status.idle": "2025-03-07T01:51:04.753303Z",
     "shell.execute_reply": "2025-03-07T01:51:04.752392Z"
    },
    "id": "pRhMX-Kagj0j",
    "outputId": "54a3fcf6-4d7b-4eaa-b851-6bba21b606d0",
    "papermill": {
     "duration": 0.025523,
     "end_time": "2025-03-07T01:51:04.754465",
     "exception": false,
     "start_time": "2025-03-07T01:51:04.728942",
     "status": "completed"
    },
    "tags": []
   },
   "outputs": [
    {
     "data": {
      "text/html": [
       "<div>\n",
       "<style scoped>\n",
       "    .dataframe tbody tr th:only-of-type {\n",
       "        vertical-align: middle;\n",
       "    }\n",
       "\n",
       "    .dataframe tbody tr th {\n",
       "        vertical-align: top;\n",
       "    }\n",
       "\n",
       "    .dataframe thead th {\n",
       "        text-align: right;\n",
       "    }\n",
       "</style>\n",
       "<table border=\"1\" class=\"dataframe\">\n",
       "  <thead>\n",
       "    <tr style=\"text-align: right;\">\n",
       "      <th></th>\n",
       "      <th>Unnamed: 0</th>\n",
       "      <th>userName</th>\n",
       "      <th>content</th>\n",
       "      <th>score</th>\n",
       "      <th>thumbsUpCount</th>\n",
       "      <th>at</th>\n",
       "    </tr>\n",
       "  </thead>\n",
       "  <tbody>\n",
       "    <tr>\n",
       "      <th>0</th>\n",
       "      <td>0</td>\n",
       "      <td>T H (Trudylh20)</td>\n",
       "      <td>excellent Im impressed 👌 👏</td>\n",
       "      <td>5</td>\n",
       "      <td>0</td>\n",
       "      <td>28-06-2024 21:07</td>\n",
       "    </tr>\n",
       "    <tr>\n",
       "      <th>1</th>\n",
       "      <td>1</td>\n",
       "      <td>Muhammad bassam adam</td>\n",
       "      <td>perfect</td>\n",
       "      <td>5</td>\n",
       "      <td>0</td>\n",
       "      <td>28-06-2024 20:56</td>\n",
       "    </tr>\n",
       "  </tbody>\n",
       "</table>\n",
       "</div>"
      ],
      "text/plain": [
       "   Unnamed: 0              userName                     content  score  \\\n",
       "0           0       T H (Trudylh20)  excellent Im impressed 👌 👏      5   \n",
       "1           1  Muhammad bassam adam                     perfect      5   \n",
       "\n",
       "   thumbsUpCount                at  \n",
       "0              0  28-06-2024 21:07  \n",
       "1              0  28-06-2024 20:56  "
      ]
     },
     "execution_count": 5,
     "metadata": {},
     "output_type": "execute_result"
    }
   ],
   "source": [
    "test.head(2)"
   ]
  },
  {
   "cell_type": "code",
   "execution_count": 6,
   "id": "fff92355",
   "metadata": {
    "execution": {
     "iopub.execute_input": "2025-03-07T01:51:04.783955Z",
     "iopub.status.busy": "2025-03-07T01:51:04.783564Z",
     "iopub.status.idle": "2025-03-07T01:51:04.792935Z",
     "shell.execute_reply": "2025-03-07T01:51:04.791706Z"
    },
    "id": "DvfxKIJCgrV6",
    "outputId": "d52e801c-5a3d-4002-cd63-34bbfd1b487b",
    "papermill": {
     "duration": 0.025253,
     "end_time": "2025-03-07T01:51:04.794208",
     "exception": false,
     "start_time": "2025-03-07T01:51:04.768955",
     "status": "completed"
    },
    "tags": []
   },
   "outputs": [
    {
     "data": {
      "text/html": [
       "<div>\n",
       "<style scoped>\n",
       "    .dataframe tbody tr th:only-of-type {\n",
       "        vertical-align: middle;\n",
       "    }\n",
       "\n",
       "    .dataframe tbody tr th {\n",
       "        vertical-align: top;\n",
       "    }\n",
       "\n",
       "    .dataframe thead th {\n",
       "        text-align: right;\n",
       "    }\n",
       "</style>\n",
       "<table border=\"1\" class=\"dataframe\">\n",
       "  <thead>\n",
       "    <tr style=\"text-align: right;\">\n",
       "      <th></th>\n",
       "      <th>Name</th>\n",
       "      <th>Rating</th>\n",
       "      <th>Comment</th>\n",
       "      <th>Date</th>\n",
       "      <th>Country</th>\n",
       "      <th>Thumbs Up</th>\n",
       "      <th>Review ID</th>\n",
       "      <th>App Version</th>\n",
       "    </tr>\n",
       "  </thead>\n",
       "  <tbody>\n",
       "    <tr>\n",
       "      <th>0</th>\n",
       "      <td>Musa Maan</td>\n",
       "      <td>4</td>\n",
       "      <td>pictures information is not good but overall best</td>\n",
       "      <td>2024-07-18 18:19:22</td>\n",
       "      <td>us</td>\n",
       "      <td>0</td>\n",
       "      <td>4312ea55-28b5-4abd-b007-c0c4909c25bc</td>\n",
       "      <td>1.2024.192</td>\n",
       "    </tr>\n",
       "    <tr>\n",
       "      <th>1</th>\n",
       "      <td>Lorax</td>\n",
       "      <td>5</td>\n",
       "      <td>Very useful</td>\n",
       "      <td>2024-07-18 18:18:15</td>\n",
       "      <td>us</td>\n",
       "      <td>0</td>\n",
       "      <td>249e38e0-9d3a-4392-896d-88fd7e4499f6</td>\n",
       "      <td>NaN</td>\n",
       "    </tr>\n",
       "  </tbody>\n",
       "</table>\n",
       "</div>"
      ],
      "text/plain": [
       "        Name  Rating                                            Comment  \\\n",
       "0  Musa Maan       4  pictures information is not good but overall best   \n",
       "1      Lorax       5                                        Very useful   \n",
       "\n",
       "                  Date Country  Thumbs Up  \\\n",
       "0  2024-07-18 18:19:22      us          0   \n",
       "1  2024-07-18 18:18:15      us          0   \n",
       "\n",
       "                              Review ID App Version  \n",
       "0  4312ea55-28b5-4abd-b007-c0c4909c25bc  1.2024.192  \n",
       "1  249e38e0-9d3a-4392-896d-88fd7e4499f6         NaN  "
      ]
     },
     "execution_count": 6,
     "metadata": {},
     "output_type": "execute_result"
    }
   ],
   "source": [
    "val.head(2)"
   ]
  },
  {
   "cell_type": "markdown",
   "id": "55962a06",
   "metadata": {
    "id": "FY38z0HVg1jM",
    "papermill": {
     "duration": 0.013506,
     "end_time": "2025-03-07T01:51:04.822205",
     "exception": false,
     "start_time": "2025-03-07T01:51:04.808699",
     "status": "completed"
    },
    "tags": []
   },
   "source": [
    "Como 2 de 3 coinciden en el nombre de las columnas, para concatenarlas correctamente vamos a igualarles los nombres de las columnas, luego normalizaremos."
   ]
  },
  {
   "cell_type": "markdown",
   "id": "f2967230",
   "metadata": {
    "id": "M_4wAQ_x_LCg",
    "papermill": {
     "duration": 0.013465,
     "end_time": "2025-03-07T01:51:04.849816",
     "exception": false,
     "start_time": "2025-03-07T01:51:04.836351",
     "status": "completed"
    },
    "tags": []
   },
   "source": [
    "Nuestro objetivo será clasificar correctamente entre Bueno Y malo, haciendolo desde >= 4 bueno y < 3 malo. No conservamos a 3 para que se acentúe mejor la diferencia."
   ]
  },
  {
   "cell_type": "markdown",
   "id": "f1f92b9a",
   "metadata": {
    "id": "HGQfOM0nwZ0s",
    "papermill": {
     "duration": 0.013961,
     "end_time": "2025-03-07T01:51:04.877781",
     "exception": false,
     "start_time": "2025-03-07T01:51:04.863820",
     "status": "completed"
    },
    "tags": []
   },
   "source": [
    "# EDA Pre-Clean"
   ]
  },
  {
   "cell_type": "markdown",
   "id": "d6b7ebd4",
   "metadata": {
    "id": "Eeefc_WDwZ0s",
    "papermill": {
     "duration": 0.013686,
     "end_time": "2025-03-07T01:51:04.905801",
     "exception": false,
     "start_time": "2025-03-07T01:51:04.892115",
     "status": "completed"
    },
    "tags": []
   },
   "source": [
    "## Serie de tiempo\n"
   ]
  },
  {
   "cell_type": "code",
   "execution_count": 7,
   "id": "3c0b2aac",
   "metadata": {
    "execution": {
     "iopub.execute_input": "2025-03-07T01:51:04.936061Z",
     "iopub.status.busy": "2025-03-07T01:51:04.935691Z",
     "iopub.status.idle": "2025-03-07T01:51:05.243465Z",
     "shell.execute_reply": "2025-03-07T01:51:05.242572Z"
    },
    "id": "Mborbxr-wZ0s",
    "papermill": {
     "duration": 0.324443,
     "end_time": "2025-03-07T01:51:05.245271",
     "exception": false,
     "start_time": "2025-03-07T01:51:04.920828",
     "status": "completed"
    },
    "tags": []
   },
   "outputs": [],
   "source": [
    "fechas = pd.concat([df['at'],val['Date'],test['at']],axis=0)\n",
    "\n",
    "# Convertimos la serie a datetime\n",
    "fechas = pd.to_datetime(fechas, errors='coerce')  # Esto también maneja valores inválidos\n",
    "\n",
    "fechas = fechas.dropna()\n",
    "\n",
    "# Extraemos solo la parte de la fecha ya que no necesitamos tanta precisión incluyendo la hora\n",
    "fechas = fechas.dt.date"
   ]
  },
  {
   "cell_type": "code",
   "execution_count": 8,
   "id": "e376b4b8",
   "metadata": {
    "execution": {
     "iopub.execute_input": "2025-03-07T01:51:05.275495Z",
     "iopub.status.busy": "2025-03-07T01:51:05.275173Z",
     "iopub.status.idle": "2025-03-07T01:51:07.193430Z",
     "shell.execute_reply": "2025-03-07T01:51:07.192079Z"
    },
    "id": "zdsdClWcwZ0s",
    "outputId": "d3d04e53-e421-4f81-cc10-b9ff525483a7",
    "papermill": {
     "duration": 1.935155,
     "end_time": "2025-03-07T01:51:07.195061",
     "exception": false,
     "start_time": "2025-03-07T01:51:05.259906",
     "status": "completed"
    },
    "tags": []
   },
   "outputs": [
    {
     "data": {
      "image/png": "[encoded data removed]",
      "text/plain": [
       "<Figure size 1000x600 with 1 Axes>"
      ]
     },
     "metadata": {},
     "output_type": "display_data"
    }
   ],
   "source": [
    "plt.figure(figsize=(10, 6))\n",
    "sns.histplot(fechas, bins=40)\n",
    "plt.xticks(rotation=45)\n",
    "plt.title('Distribución de Fechas')\n",
    "plt.show()"
   ]
  },
  {
   "cell_type": "markdown",
   "id": "2e7431df",
   "metadata": {
    "id": "v9hHxd8KwZ0t",
    "papermill": {
     "duration": 0.014582,
     "end_time": "2025-03-07T01:51:07.225405",
     "exception": false,
     "start_time": "2025-03-07T01:51:07.210823",
     "status": "completed"
    },
    "tags": []
   },
   "source": [
    "Podemos llegar a la conclusión que hubo un gran aumento en la cantidad de comentarios por día.}\n",
    "\n",
    " Hubieron picos, al inicio y a mitades del 05/2024, podría suponerse que fueron \"booms\" por lanzamiento de la app o actualizaciones importantes, tales como la implementación de agentes y el chatgpt-4"
   ]
  },
  {
   "cell_type": "markdown",
   "id": "b3d53298",
   "metadata": {
    "id": "GSMdxcxhwZ0t",
    "papermill": {
     "duration": 0.014698,
     "end_time": "2025-03-07T01:51:07.255467",
     "exception": false,
     "start_time": "2025-03-07T01:51:07.240769",
     "status": "completed"
    },
    "tags": []
   },
   "source": [
    "## Variable objetivo"
   ]
  },
  {
   "cell_type": "code",
   "execution_count": 9,
   "id": "7d609ad3",
   "metadata": {
    "execution": {
     "iopub.execute_input": "2025-03-07T01:51:07.345103Z",
     "iopub.status.busy": "2025-03-07T01:51:07.344778Z",
     "iopub.status.idle": "2025-03-07T01:51:07.363477Z",
     "shell.execute_reply": "2025-03-07T01:51:07.362115Z"
    },
    "id": "OTa61SZSwZ0u",
    "outputId": "bf757e86-937f-444b-abf1-b570217f86f2",
    "papermill": {
     "duration": 0.036812,
     "end_time": "2025-03-07T01:51:07.365303",
     "exception": false,
     "start_time": "2025-03-07T01:51:07.328491",
     "status": "completed"
    },
    "tags": []
   },
   "outputs": [
    {
     "name": "stdout",
     "output_type": "stream",
     "text": [
      "Score 5: Cantidad: 309197, Porcentaje: 77.31%\n",
      "Score 4: Cantidad: 44415, Porcentaje: 11.10%\n",
      "Score 1: Cantidad: 23384, Porcentaje: 5.85%\n",
      "Score 3: Cantidad: 16197, Porcentaje: 4.05%\n",
      "Score 2: Cantidad: 6772, Porcentaje: 1.69%\n"
     ]
    }
   ],
   "source": [
    "scores = df.score.value_counts()\n",
    "\n",
    "for score, cant in scores.items():\n",
    "    porcentaje = (cant / df.shape[0]) * 100\n",
    "    print(f\"Score {score}: Cantidad: {cant}, Porcentaje: {porcentaje:.2f}%\")"
   ]
  },
  {
   "cell_type": "code",
   "execution_count": 10,
   "id": "7d7352a2",
   "metadata": {
    "execution": {
     "iopub.execute_input": "2025-03-07T01:51:07.398083Z",
     "iopub.status.busy": "2025-03-07T01:51:07.397763Z",
     "iopub.status.idle": "2025-03-07T01:51:07.549074Z",
     "shell.execute_reply": "2025-03-07T01:51:07.547194Z"
    },
    "id": "qIM_p6IKwZ0u",
    "outputId": "76423461-38a5-425b-9f42-7ed8f04e197a",
    "papermill": {
     "duration": 0.169547,
     "end_time": "2025-03-07T01:51:07.551160",
     "exception": false,
     "start_time": "2025-03-07T01:51:07.381613",
     "status": "completed"
    },
    "tags": []
   },
   "outputs": [
    {
     "data": {
      "image/png": "[encoded data removed]",
      "text/plain": [
       "<Figure size 640x480 with 1 Axes>"
      ]
     },
     "metadata": {},
     "output_type": "display_data"
    }
   ],
   "source": [
    "sns.countplot(x='score', data=df, palette='magma_r')\n",
    "\n",
    "# Etiquetas y título\n",
    "plt.xlabel('Score')\n",
    "plt.ylabel('Counts')\n",
    "plt.title('Dsitribución de Scores')\n",
    "\n",
    "# Mostrar gráfico\n",
    "plt.show()"
   ]
  },
  {
   "cell_type": "markdown",
   "id": "9f38891d",
   "metadata": {
    "id": "Ee931GluwZ0u",
    "papermill": {
     "duration": 0.015271,
     "end_time": "2025-03-07T01:51:07.582252",
     "exception": false,
     "start_time": "2025-03-07T01:51:07.566981",
     "status": "completed"
    },
    "tags": []
   },
   "source": [
    "Gran desbalanceo de datos.\n",
    "\n",
    "Score == 2 tiene la mínima cantidad de score\n",
    "Score == 5 tiene la máxima cantidad de score"
   ]
  },
  {
   "cell_type": "code",
   "execution_count": 11,
   "id": "c1134bd3",
   "metadata": {
    "execution": {
     "iopub.execute_input": "2025-03-07T01:51:07.614932Z",
     "iopub.status.busy": "2025-03-07T01:51:07.614562Z",
     "iopub.status.idle": "2025-03-07T01:51:07.731011Z",
     "shell.execute_reply": "2025-03-07T01:51:07.729923Z"
    },
    "id": "uiBspGJHwZ0u",
    "outputId": "193e26ce-3ca5-4a97-cc9e-63f9ac975039",
    "papermill": {
     "duration": 0.134489,
     "end_time": "2025-03-07T01:51:07.732448",
     "exception": false,
     "start_time": "2025-03-07T01:51:07.597959",
     "status": "completed"
    },
    "tags": []
   },
   "outputs": [
    {
     "data": {
      "image/png": "[encoded data removed]",
      "text/plain": [
       "<Figure size 640x480 with 1 Axes>"
      ]
     },
     "metadata": {},
     "output_type": "display_data"
    }
   ],
   "source": [
    "# Utilizamos el scores anteriormente definido\n",
    "scores = df.score.value_counts()\n",
    "\n",
    "fig, ax = plt.subplots()\n",
    "ax.pie(scores, labels=scores.index, autopct='%1.1f%%', startangle=90, colors=['#3c1b64', '#803577', '#eca57f', '#DC143C','#cb5c73',])\n",
    "\n",
    "# Asegurar que el gráfico de torta es circular\n",
    "ax.axis('equal')\n",
    "\n",
    "plt.title('Distribución de Scores')\n",
    "plt.show()"
   ]
  },
  {
   "cell_type": "markdown",
   "id": "527aceff",
   "metadata": {
    "id": "6cTPWQr6wZ0u",
    "papermill": {
     "duration": 0.015686,
     "end_time": "2025-03-07T01:51:07.764592",
     "exception": false,
     "start_time": "2025-03-07T01:51:07.748906",
     "status": "completed"
    },
    "tags": []
   },
   "source": [
    "Como podemos ver, tenemos una gran inclinación por el score 5 en el dataset.\n",
    "\n",
    "El color rojo (Score == 3) será eliminado para evitar comentarios que contengan reviews malas y buenas dentro del mismo comentario (nulas) ya que sería más difícil de predecir con nuestro modelo."
   ]
  },
  {
   "cell_type": "markdown",
   "id": "7f7398b1",
   "metadata": {
    "id": "kJ_mJrufCeg7",
    "papermill": {
     "duration": 0.017736,
     "end_time": "2025-03-07T01:51:07.799060",
     "exception": false,
     "start_time": "2025-03-07T01:51:07.781324",
     "status": "completed"
    },
    "tags": []
   },
   "source": [
    "# Cleaning"
   ]
  },
  {
   "cell_type": "markdown",
   "id": "302f96bc",
   "metadata": {
    "id": "ZgPk2RgWwZ0v",
    "papermill": {
     "duration": 0.015654,
     "end_time": "2025-03-07T01:51:07.831826",
     "exception": false,
     "start_time": "2025-03-07T01:51:07.816172",
     "status": "completed"
    },
    "tags": []
   },
   "source": [
    "Como pudimos ver un gran desbalanceo en las variables, probablemente a futuro, nuestro modelo tenga problemas para diferenciar más los comentarios buenos que los malos.\n",
    "\n",
    "Por esa razón, se tomó la decisión de tomar TODOS los valores negativos de los dos datasets test y val, que se iban a utilizar para las validaciones, intentando priorizar un buen aprendizaje del modelo con socres bajos, el cual tiene muy pocos datos a comparación de los scores positivos."
   ]
  },
  {
   "cell_type": "code",
   "execution_count": 12,
   "id": "74cd502c",
   "metadata": {
    "execution": {
     "iopub.execute_input": "2025-03-07T01:51:07.867311Z",
     "iopub.status.busy": "2025-03-07T01:51:07.867018Z",
     "iopub.status.idle": "2025-03-07T01:51:07.877661Z",
     "shell.execute_reply": "2025-03-07T01:51:07.876527Z"
    },
    "id": "oZbgKgzXwZ0v",
    "outputId": "4f06565e-2e6d-487b-df71-847b3e0ca551",
    "papermill": {
     "duration": 0.031304,
     "end_time": "2025-03-07T01:51:07.879584",
     "exception": false,
     "start_time": "2025-03-07T01:51:07.848280",
     "status": "completed"
    },
    "tags": []
   },
   "outputs": [
    {
     "data": {
      "text/html": [
       "<div>\n",
       "<style scoped>\n",
       "    .dataframe tbody tr th:only-of-type {\n",
       "        vertical-align: middle;\n",
       "    }\n",
       "\n",
       "    .dataframe tbody tr th {\n",
       "        vertical-align: top;\n",
       "    }\n",
       "\n",
       "    .dataframe thead th {\n",
       "        text-align: right;\n",
       "    }\n",
       "</style>\n",
       "<table border=\"1\" class=\"dataframe\">\n",
       "  <thead>\n",
       "    <tr style=\"text-align: right;\">\n",
       "      <th></th>\n",
       "      <th>Name</th>\n",
       "      <th>Rating</th>\n",
       "      <th>Comment</th>\n",
       "      <th>Date</th>\n",
       "      <th>Country</th>\n",
       "      <th>Thumbs Up</th>\n",
       "      <th>Review ID</th>\n",
       "      <th>App Version</th>\n",
       "    </tr>\n",
       "  </thead>\n",
       "  <tbody>\n",
       "    <tr>\n",
       "      <th>0</th>\n",
       "      <td>Musa Maan</td>\n",
       "      <td>4</td>\n",
       "      <td>pictures information is not good but overall best</td>\n",
       "      <td>2024-07-18 18:19:22</td>\n",
       "      <td>us</td>\n",
       "      <td>0</td>\n",
       "      <td>4312ea55-28b5-4abd-b007-c0c4909c25bc</td>\n",
       "      <td>1.2024.192</td>\n",
       "    </tr>\n",
       "    <tr>\n",
       "      <th>1</th>\n",
       "      <td>Lorax</td>\n",
       "      <td>5</td>\n",
       "      <td>Very useful</td>\n",
       "      <td>2024-07-18 18:18:15</td>\n",
       "      <td>us</td>\n",
       "      <td>0</td>\n",
       "      <td>249e38e0-9d3a-4392-896d-88fd7e4499f6</td>\n",
       "      <td>NaN</td>\n",
       "    </tr>\n",
       "  </tbody>\n",
       "</table>\n",
       "</div>"
      ],
      "text/plain": [
       "        Name  Rating                                            Comment  \\\n",
       "0  Musa Maan       4  pictures information is not good but overall best   \n",
       "1      Lorax       5                                        Very useful   \n",
       "\n",
       "                  Date Country  Thumbs Up  \\\n",
       "0  2024-07-18 18:19:22      us          0   \n",
       "1  2024-07-18 18:18:15      us          0   \n",
       "\n",
       "                              Review ID App Version  \n",
       "0  4312ea55-28b5-4abd-b007-c0c4909c25bc  1.2024.192  \n",
       "1  249e38e0-9d3a-4392-896d-88fd7e4499f6         NaN  "
      ]
     },
     "execution_count": 12,
     "metadata": {},
     "output_type": "execute_result"
    }
   ],
   "source": [
    "val.head(2)"
   ]
  },
  {
   "cell_type": "markdown",
   "id": "3a3c08bb",
   "metadata": {
    "id": "jsDF9DViwZ0v",
    "papermill": {
     "duration": 0.016633,
     "end_time": "2025-03-07T01:51:07.914082",
     "exception": false,
     "start_time": "2025-03-07T01:51:07.897449",
     "status": "completed"
    },
    "tags": []
   },
   "source": [
    "Podemos ver que val tiene diferentes columnas, habrá que normalizarlas con el resto"
   ]
  },
  {
   "cell_type": "code",
   "execution_count": 13,
   "id": "638ee1c5",
   "metadata": {
    "execution": {
     "iopub.execute_input": "2025-03-07T01:51:07.948061Z",
     "iopub.status.busy": "2025-03-07T01:51:07.947699Z",
     "iopub.status.idle": "2025-03-07T01:51:07.957079Z",
     "shell.execute_reply": "2025-03-07T01:51:07.955904Z"
    },
    "id": "dBD63hVZwZ0v",
    "outputId": "702409ff-67fe-4cff-bd84-0d2b82a40b38",
    "papermill": {
     "duration": 0.028909,
     "end_time": "2025-03-07T01:51:07.959385",
     "exception": false,
     "start_time": "2025-03-07T01:51:07.930476",
     "status": "completed"
    },
    "tags": []
   },
   "outputs": [
    {
     "data": {
      "text/html": [
       "<div>\n",
       "<style scoped>\n",
       "    .dataframe tbody tr th:only-of-type {\n",
       "        vertical-align: middle;\n",
       "    }\n",
       "\n",
       "    .dataframe tbody tr th {\n",
       "        vertical-align: top;\n",
       "    }\n",
       "\n",
       "    .dataframe thead th {\n",
       "        text-align: right;\n",
       "    }\n",
       "</style>\n",
       "<table border=\"1\" class=\"dataframe\">\n",
       "  <thead>\n",
       "    <tr style=\"text-align: right;\">\n",
       "      <th></th>\n",
       "      <th>Unnamed: 0</th>\n",
       "      <th>userName</th>\n",
       "      <th>content</th>\n",
       "      <th>score</th>\n",
       "      <th>thumbsUpCount</th>\n",
       "      <th>at</th>\n",
       "    </tr>\n",
       "  </thead>\n",
       "  <tbody>\n",
       "    <tr>\n",
       "      <th>0</th>\n",
       "      <td>0</td>\n",
       "      <td>T H (Trudylh20)</td>\n",
       "      <td>excellent Im impressed 👌 👏</td>\n",
       "      <td>5</td>\n",
       "      <td>0</td>\n",
       "      <td>28-06-2024 21:07</td>\n",
       "    </tr>\n",
       "    <tr>\n",
       "      <th>1</th>\n",
       "      <td>1</td>\n",
       "      <td>Muhammad bassam adam</td>\n",
       "      <td>perfect</td>\n",
       "      <td>5</td>\n",
       "      <td>0</td>\n",
       "      <td>28-06-2024 20:56</td>\n",
       "    </tr>\n",
       "  </tbody>\n",
       "</table>\n",
       "</div>"
      ],
      "text/plain": [
       "   Unnamed: 0              userName                     content  score  \\\n",
       "0           0       T H (Trudylh20)  excellent Im impressed 👌 👏      5   \n",
       "1           1  Muhammad bassam adam                     perfect      5   \n",
       "\n",
       "   thumbsUpCount                at  \n",
       "0              0  28-06-2024 21:07  \n",
       "1              0  28-06-2024 20:56  "
      ]
     },
     "execution_count": 13,
     "metadata": {},
     "output_type": "execute_result"
    }
   ],
   "source": [
    "test.head(2)"
   ]
  },
  {
   "cell_type": "code",
   "execution_count": 14,
   "id": "ef6f214f",
   "metadata": {
    "execution": {
     "iopub.execute_input": "2025-03-07T01:51:07.994112Z",
     "iopub.status.busy": "2025-03-07T01:51:07.993733Z",
     "iopub.status.idle": "2025-03-07T01:51:07.998964Z",
     "shell.execute_reply": "2025-03-07T01:51:07.997575Z"
    },
    "id": "aTiD6EGYg88g",
    "papermill": {
     "duration": 0.024946,
     "end_time": "2025-03-07T01:51:08.001141",
     "exception": false,
     "start_time": "2025-03-07T01:51:07.976195",
     "status": "completed"
    },
    "tags": []
   },
   "outputs": [],
   "source": [
    "# Renombramos los nombres que difieren a los otros dos datasets\n",
    "val.rename(columns={'Rating': 'score', 'Comment': 'content'}, inplace=True)\n",
    "\n"
   ]
  },
  {
   "cell_type": "code",
   "execution_count": 15,
   "id": "20b32505",
   "metadata": {
    "execution": {
     "iopub.execute_input": "2025-03-07T01:51:08.041709Z",
     "iopub.status.busy": "2025-03-07T01:51:08.041250Z",
     "iopub.status.idle": "2025-03-07T01:51:08.094325Z",
     "shell.execute_reply": "2025-03-07T01:51:08.093565Z"
    },
    "id": "XCEN79RndxWg",
    "papermill": {
     "duration": 0.075089,
     "end_time": "2025-03-07T01:51:08.095919",
     "exception": false,
     "start_time": "2025-03-07T01:51:08.020830",
     "status": "completed"
    },
    "tags": []
   },
   "outputs": [],
   "source": [
    "# Filtrar las filas de 'test' donde 'score' es menor a 3\n",
    "test_filtrado = test[test['score'] < 3]\n",
    "val_filtrado = val[val['score'] < 3]\n",
    "\n",
    "# Concatenar las filas filtradas con 'df'\n",
    "df = pd.concat([df, test_filtrado,val_filtrado], ignore_index=True)\n",
    "\n",
    "del test_filtrado, val_filtrado"
   ]
  },
  {
   "cell_type": "markdown",
   "id": "771f2ff0",
   "metadata": {
    "id": "qn0vOx11wZ0v",
    "papermill": {
     "duration": 0.020081,
     "end_time": "2025-03-07T01:51:08.133100",
     "exception": false,
     "start_time": "2025-03-07T01:51:08.113019",
     "status": "completed"
    },
    "tags": []
   },
   "source": [
    "Ahora sí, comenzamos con el cleaning"
   ]
  },
  {
   "cell_type": "code",
   "execution_count": 16,
   "id": "f4eb2701",
   "metadata": {
    "execution": {
     "iopub.execute_input": "2025-03-07T01:51:08.185865Z",
     "iopub.status.busy": "2025-03-07T01:51:08.185510Z",
     "iopub.status.idle": "2025-03-07T01:51:08.894019Z",
     "shell.execute_reply": "2025-03-07T01:51:08.892723Z"
    },
    "id": "leiZo_77AX-q",
    "outputId": "5b6b7171-1e5a-4fd0-db4c-bbff620bf160",
    "papermill": {
     "duration": 0.736775,
     "end_time": "2025-03-07T01:51:08.896326",
     "exception": false,
     "start_time": "2025-03-07T01:51:08.159551",
     "status": "completed"
    },
    "tags": []
   },
   "outputs": [
    {
     "data": {
      "text/plain": [
       "2509"
      ]
     },
     "execution_count": 16,
     "metadata": {},
     "output_type": "execute_result"
    }
   ],
   "source": [
    "df.duplicated().sum()\n"
   ]
  },
  {
   "cell_type": "markdown",
   "id": "9a27946a",
   "metadata": {
    "id": "7mY9MHErCggT",
    "papermill": {
     "duration": 0.016323,
     "end_time": "2025-03-07T01:51:08.934319",
     "exception": false,
     "start_time": "2025-03-07T01:51:08.917996",
     "status": "completed"
    },
    "tags": []
   },
   "source": [
    "## Columnas"
   ]
  },
  {
   "cell_type": "code",
   "execution_count": 17,
   "id": "f2bc8d26",
   "metadata": {
    "execution": {
     "iopub.execute_input": "2025-03-07T01:51:08.969120Z",
     "iopub.status.busy": "2025-03-07T01:51:08.968751Z",
     "iopub.status.idle": "2025-03-07T01:51:10.129180Z",
     "shell.execute_reply": "2025-03-07T01:51:10.127790Z"
    },
    "id": "cBUgRMAzBIkU",
    "papermill": {
     "duration": 1.180188,
     "end_time": "2025-03-07T01:51:10.131152",
     "exception": false,
     "start_time": "2025-03-07T01:51:08.950964",
     "status": "completed"
    },
    "tags": []
   },
   "outputs": [],
   "source": [
    "columnas_a_mantener = ['score','content']\n",
    "datasets = [df, val, test]\n",
    "\n",
    "for df in datasets:\n",
    "    df = df.drop_duplicates()\n",
    "    df = df[df.score != 3] #Dropeamos los valores == 3\n",
    "    df = df[columnas_a_mantener]\n",
    "    df.content = df.content.dropna()\n",
    "\n"
   ]
  },
  {
   "cell_type": "markdown",
   "id": "aa337dde",
   "metadata": {
    "id": "UHt53P67wZ0w",
    "papermill": {
     "duration": 0.016477,
     "end_time": "2025-03-07T01:51:10.165711",
     "exception": false,
     "start_time": "2025-03-07T01:51:10.149234",
     "status": "completed"
    },
    "tags": []
   },
   "source": [
    "Como luego utilizaremos el dataset de test para hacer la predicción y val para validar, queremos que hayan pasado por el mismo proceso para que sean iguales."
   ]
  },
  {
   "cell_type": "markdown",
   "id": "a261fd5f",
   "metadata": {
    "id": "0KZxNINnCl8z",
    "papermill": {
     "duration": 0.016512,
     "end_time": "2025-03-07T01:51:10.201349",
     "exception": false,
     "start_time": "2025-03-07T01:51:10.184837",
     "status": "completed"
    },
    "tags": []
   },
   "source": [
    "## Estandarización ratings"
   ]
  },
  {
   "cell_type": "code",
   "execution_count": 18,
   "id": "1d289be4",
   "metadata": {
    "execution": {
     "iopub.execute_input": "2025-03-07T01:51:10.236064Z",
     "iopub.status.busy": "2025-03-07T01:51:10.235777Z",
     "iopub.status.idle": "2025-03-07T01:51:10.244383Z",
     "shell.execute_reply": "2025-03-07T01:51:10.243432Z"
    },
    "id": "5aXo5eQjC0rU",
    "outputId": "ab653c81-727f-4bbd-8166-972d1d698d63",
    "papermill": {
     "duration": 0.027509,
     "end_time": "2025-03-07T01:51:10.245679",
     "exception": false,
     "start_time": "2025-03-07T01:51:10.218170",
     "status": "completed"
    },
    "tags": []
   },
   "outputs": [
    {
     "data": {
      "text/html": [
       "<div>\n",
       "<style scoped>\n",
       "    .dataframe tbody tr th:only-of-type {\n",
       "        vertical-align: middle;\n",
       "    }\n",
       "\n",
       "    .dataframe tbody tr th {\n",
       "        vertical-align: top;\n",
       "    }\n",
       "\n",
       "    .dataframe thead th {\n",
       "        text-align: right;\n",
       "    }\n",
       "</style>\n",
       "<table border=\"1\" class=\"dataframe\">\n",
       "  <thead>\n",
       "    <tr style=\"text-align: right;\">\n",
       "      <th></th>\n",
       "      <th>score</th>\n",
       "      <th>content</th>\n",
       "    </tr>\n",
       "  </thead>\n",
       "  <tbody>\n",
       "    <tr>\n",
       "      <th>0</th>\n",
       "      <td>5</td>\n",
       "      <td>excellent Im impressed 👌 👏</td>\n",
       "    </tr>\n",
       "    <tr>\n",
       "      <th>1</th>\n",
       "      <td>5</td>\n",
       "      <td>perfect</td>\n",
       "    </tr>\n",
       "    <tr>\n",
       "      <th>2</th>\n",
       "      <td>5</td>\n",
       "      <td>its been so helpful...love it</td>\n",
       "    </tr>\n",
       "    <tr>\n",
       "      <th>3</th>\n",
       "      <td>5</td>\n",
       "      <td>It's amazing tools help me a lot with my work.</td>\n",
       "    </tr>\n",
       "    <tr>\n",
       "      <th>4</th>\n",
       "      <td>1</td>\n",
       "      <td>I enjoyed ChatGPT. But last update ruined ever...</td>\n",
       "    </tr>\n",
       "    <tr>\n",
       "      <th>...</th>\n",
       "      <td>...</td>\n",
       "      <td>...</td>\n",
       "    </tr>\n",
       "    <tr>\n",
       "      <th>149714</th>\n",
       "      <td>5</td>\n",
       "      <td>Update 2023</td>\n",
       "    </tr>\n",
       "    <tr>\n",
       "      <th>149715</th>\n",
       "      <td>5</td>\n",
       "      <td>its grear</td>\n",
       "    </tr>\n",
       "    <tr>\n",
       "      <th>149716</th>\n",
       "      <td>5</td>\n",
       "      <td>Funtastic App</td>\n",
       "    </tr>\n",
       "    <tr>\n",
       "      <th>149717</th>\n",
       "      <td>5</td>\n",
       "      <td>hi all</td>\n",
       "    </tr>\n",
       "    <tr>\n",
       "      <th>149718</th>\n",
       "      <td>5</td>\n",
       "      <td>expert application</td>\n",
       "    </tr>\n",
       "  </tbody>\n",
       "</table>\n",
       "<p>143463 rows × 2 columns</p>\n",
       "</div>"
      ],
      "text/plain": [
       "        score                                            content\n",
       "0           5                         excellent Im impressed 👌 👏\n",
       "1           5                                            perfect\n",
       "2           5                      its been so helpful...love it\n",
       "3           5     It's amazing tools help me a lot with my work.\n",
       "4           1  I enjoyed ChatGPT. But last update ruined ever...\n",
       "...       ...                                                ...\n",
       "149714      5                                        Update 2023\n",
       "149715      5                                          its grear\n",
       "149716      5                                      Funtastic App\n",
       "149717      5                                             hi all\n",
       "149718      5                                 expert application\n",
       "\n",
       "[143463 rows x 2 columns]"
      ]
     },
     "execution_count": 18,
     "metadata": {},
     "output_type": "execute_result"
    }
   ],
   "source": [
    "df"
   ]
  },
  {
   "cell_type": "code",
   "execution_count": 19,
   "id": "009ae792",
   "metadata": {
    "execution": {
     "iopub.execute_input": "2025-03-07T01:51:10.280190Z",
     "iopub.status.busy": "2025-03-07T01:51:10.279856Z",
     "iopub.status.idle": "2025-03-07T01:51:10.443167Z",
     "shell.execute_reply": "2025-03-07T01:51:10.442224Z"
    },
    "id": "dkjVjcl6U_eZ",
    "papermill": {
     "duration": 0.182702,
     "end_time": "2025-03-07T01:51:10.444938",
     "exception": false,
     "start_time": "2025-03-07T01:51:10.262236",
     "status": "completed"
    },
    "tags": []
   },
   "outputs": [],
   "source": [
    "for df in datasets:\n",
    "    df.score = df.score.apply(lambda x: 1 if x >= 4 else 0)"
   ]
  },
  {
   "cell_type": "code",
   "execution_count": 20,
   "id": "a59364ff",
   "metadata": {
    "execution": {
     "iopub.execute_input": "2025-03-07T01:51:10.480135Z",
     "iopub.status.busy": "2025-03-07T01:51:10.479834Z",
     "iopub.status.idle": "2025-03-07T01:51:10.489238Z",
     "shell.execute_reply": "2025-03-07T01:51:10.488023Z"
    },
    "id": "bERlYzQ8wZ0w",
    "papermill": {
     "duration": 0.029081,
     "end_time": "2025-03-07T01:51:10.491022",
     "exception": false,
     "start_time": "2025-03-07T01:51:10.461941",
     "status": "completed"
    },
    "tags": []
   },
   "outputs": [],
   "source": [
    "backup = df.copy(deep=True)"
   ]
  },
  {
   "cell_type": "markdown",
   "id": "48ffcc80",
   "metadata": {
    "id": "xO8vjhGOdCyH",
    "papermill": {
     "duration": 0.016056,
     "end_time": "2025-03-07T01:51:10.523667",
     "exception": false,
     "start_time": "2025-03-07T01:51:10.507611",
     "status": "completed"
    },
    "tags": []
   },
   "source": [
    "# EDA Post-clean"
   ]
  },
  {
   "cell_type": "markdown",
   "id": "36ecb319",
   "metadata": {
    "id": "3xSBEqjLdPc9",
    "papermill": {
     "duration": 0.016072,
     "end_time": "2025-03-07T01:51:10.556525",
     "exception": false,
     "start_time": "2025-03-07T01:51:10.540453",
     "status": "completed"
    },
    "tags": []
   },
   "source": [
    "Comparación comentarios positivos / negativos"
   ]
  },
  {
   "cell_type": "code",
   "execution_count": 21,
   "id": "c55022bf",
   "metadata": {
    "execution": {
     "iopub.execute_input": "2025-03-07T01:51:10.592396Z",
     "iopub.status.busy": "2025-03-07T01:51:10.592068Z",
     "iopub.status.idle": "2025-03-07T01:51:10.711598Z",
     "shell.execute_reply": "2025-03-07T01:51:10.710770Z"
    },
    "id": "tzNqvFXiwZ00",
    "outputId": "9162119d-fa01-4cb9-ab96-2839039c2e54",
    "papermill": {
     "duration": 0.139311,
     "end_time": "2025-03-07T01:51:10.713416",
     "exception": false,
     "start_time": "2025-03-07T01:51:10.574105",
     "status": "completed"
    },
    "tags": []
   },
   "outputs": [
    {
     "data": {
      "image/png": "[encoded data removed]",
      "text/plain": [
       "<Figure size 640x480 with 1 Axes>"
      ]
     },
     "metadata": {},
     "output_type": "display_data"
    }
   ],
   "source": [
    "# Crear el gráfico de conteo con seaborn\n",
    "sns.countplot(x='score', data=df, palette='magma_r')\n",
    "\n",
    "# Limitar el eje X a los valores 0 y 1\n",
    "\n",
    "# Etiquetas y título\n",
    "plt.xlabel('Score')\n",
    "plt.ylabel('Counts')\n",
    "plt.title('Dsitribución de Scores')\n",
    "\n",
    "# Mostrar gráfico\n",
    "plt.show()"
   ]
  },
  {
   "cell_type": "code",
   "execution_count": 22,
   "id": "f7f4af5b",
   "metadata": {
    "execution": {
     "iopub.execute_input": "2025-03-07T01:51:10.749510Z",
     "iopub.status.busy": "2025-03-07T01:51:10.749165Z",
     "iopub.status.idle": "2025-03-07T01:51:10.831101Z",
     "shell.execute_reply": "2025-03-07T01:51:10.830132Z"
    },
    "id": "lb-O_MbvwZ00",
    "outputId": "73a4660d-4c7d-496b-be80-c67f8f4d63a5",
    "papermill": {
     "duration": 0.101451,
     "end_time": "2025-03-07T01:51:10.832449",
     "exception": false,
     "start_time": "2025-03-07T01:51:10.730998",
     "status": "completed"
    },
    "tags": []
   },
   "outputs": [
    {
     "data": {
      "image/png": "[encoded data removed]",
      "text/plain": [
       "<Figure size 640x480 with 1 Axes>"
      ]
     },
     "metadata": {},
     "output_type": "display_data"
    }
   ],
   "source": [
    "# Utilizamos el scores anteriormente definido\n",
    "scores = df.score.value_counts()\n",
    "\n",
    "fig, ax = plt.subplots()\n",
    "ax.pie(scores, labels=scores.index, autopct='%1.1f%%', startangle=90, colors=['#3c1b64', '#803577', '#eca57f', '#DC143C','#cb5c73',])\n",
    "\n",
    "# Asegurar que el gráfico de torta es circular\n",
    "ax.axis('equal')\n",
    "\n",
    "plt.title('Distribución de Scores')\n",
    "plt.show()"
   ]
  },
  {
   "cell_type": "markdown",
   "id": "2075c3db",
   "metadata": {
    "id": "80BeyjwfwZ00",
    "papermill": {
     "duration": 0.017062,
     "end_time": "2025-03-07T01:51:10.868143",
     "exception": false,
     "start_time": "2025-03-07T01:51:10.851081",
     "status": "completed"
    },
    "tags": []
   },
   "source": [
    "Pese a que la diferencia sea tan grande, podríamos encontrarnos en un caso real con este tipo de métricas, por lo que tendremos que ver como solucionarlo."
   ]
  },
  {
   "cell_type": "markdown",
   "id": "11b604d6",
   "metadata": {
    "id": "Wk-L1lBrPQr4",
    "papermill": {
     "duration": 0.017636,
     "end_time": "2025-03-07T01:51:10.903516",
     "exception": false,
     "start_time": "2025-03-07T01:51:10.885880",
     "status": "completed"
    },
    "tags": []
   },
   "source": [
    "# Preprocesamiento nltk"
   ]
  },
  {
   "cell_type": "markdown",
   "id": "53c27eaa",
   "metadata": {
    "id": "VhHedr6tPYB3",
    "papermill": {
     "duration": 0.017203,
     "end_time": "2025-03-07T01:51:10.938525",
     "exception": false,
     "start_time": "2025-03-07T01:51:10.921322",
     "status": "completed"
    },
    "tags": []
   },
   "source": [
    "## lower caps / content a str"
   ]
  },
  {
   "cell_type": "code",
   "execution_count": 23,
   "id": "ea9ad133",
   "metadata": {
    "execution": {
     "iopub.execute_input": "2025-03-07T01:51:10.974819Z",
     "iopub.status.busy": "2025-03-07T01:51:10.974397Z",
     "iopub.status.idle": "2025-03-07T01:51:11.036402Z",
     "shell.execute_reply": "2025-03-07T01:51:11.034666Z"
    },
    "id": "wkpQ8T0PAie2",
    "outputId": "4143e4f5-6990-4f29-baca-c463c8c9d04d",
    "papermill": {
     "duration": 0.08241,
     "end_time": "2025-03-07T01:51:11.038353",
     "exception": false,
     "start_time": "2025-03-07T01:51:10.955943",
     "status": "completed"
    },
    "tags": []
   },
   "outputs": [
    {
     "data": {
      "text/html": [
       "<div>\n",
       "<style scoped>\n",
       "    .dataframe tbody tr th:only-of-type {\n",
       "        vertical-align: middle;\n",
       "    }\n",
       "\n",
       "    .dataframe tbody tr th {\n",
       "        vertical-align: top;\n",
       "    }\n",
       "\n",
       "    .dataframe thead th {\n",
       "        text-align: right;\n",
       "    }\n",
       "</style>\n",
       "<table border=\"1\" class=\"dataframe\">\n",
       "  <thead>\n",
       "    <tr style=\"text-align: right;\">\n",
       "      <th></th>\n",
       "      <th>Unnamed: 0</th>\n",
       "      <th>userName</th>\n",
       "      <th>content</th>\n",
       "      <th>score</th>\n",
       "      <th>thumbsUpCount</th>\n",
       "      <th>at</th>\n",
       "    </tr>\n",
       "  </thead>\n",
       "  <tbody>\n",
       "    <tr>\n",
       "      <th>0</th>\n",
       "      <td>0</td>\n",
       "      <td>T H (Trudylh20)</td>\n",
       "      <td>excellent im impressed 👌 👏</td>\n",
       "      <td>1</td>\n",
       "      <td>0</td>\n",
       "      <td>28-06-2024 21:07</td>\n",
       "    </tr>\n",
       "    <tr>\n",
       "      <th>1</th>\n",
       "      <td>1</td>\n",
       "      <td>Muhammad bassam adam</td>\n",
       "      <td>perfect</td>\n",
       "      <td>1</td>\n",
       "      <td>0</td>\n",
       "      <td>28-06-2024 20:56</td>\n",
       "    </tr>\n",
       "    <tr>\n",
       "      <th>2</th>\n",
       "      <td>2</td>\n",
       "      <td>Chinaza Okoli</td>\n",
       "      <td>its been so helpful...love it</td>\n",
       "      <td>1</td>\n",
       "      <td>0</td>\n",
       "      <td>28-06-2024 20:54</td>\n",
       "    </tr>\n",
       "    <tr>\n",
       "      <th>3</th>\n",
       "      <td>3</td>\n",
       "      <td>Project House Group Ltd</td>\n",
       "      <td>it's amazing tools help me a lot with my work.</td>\n",
       "      <td>1</td>\n",
       "      <td>0</td>\n",
       "      <td>28-06-2024 20:51</td>\n",
       "    </tr>\n",
       "    <tr>\n",
       "      <th>4</th>\n",
       "      <td>4</td>\n",
       "      <td>Safoan Riyad</td>\n",
       "      <td>i enjoyed chatgpt. but last update ruined ever...</td>\n",
       "      <td>0</td>\n",
       "      <td>0</td>\n",
       "      <td>28-06-2024 20:50</td>\n",
       "    </tr>\n",
       "  </tbody>\n",
       "</table>\n",
       "</div>"
      ],
      "text/plain": [
       "   Unnamed: 0                 userName  \\\n",
       "0           0          T H (Trudylh20)   \n",
       "1           1     Muhammad bassam adam   \n",
       "2           2            Chinaza Okoli   \n",
       "3           3  Project House Group Ltd   \n",
       "4           4             Safoan Riyad   \n",
       "\n",
       "                                             content  score  thumbsUpCount  \\\n",
       "0                         excellent im impressed 👌 👏      1              0   \n",
       "1                                            perfect      1              0   \n",
       "2                      its been so helpful...love it      1              0   \n",
       "3     it's amazing tools help me a lot with my work.      1              0   \n",
       "4  i enjoyed chatgpt. but last update ruined ever...      0              0   \n",
       "\n",
       "                 at  \n",
       "0  28-06-2024 21:07  \n",
       "1  28-06-2024 20:56  \n",
       "2  28-06-2024 20:54  \n",
       "3  28-06-2024 20:51  \n",
       "4  28-06-2024 20:50  "
      ]
     },
     "execution_count": 23,
     "metadata": {},
     "output_type": "execute_result"
    }
   ],
   "source": [
    "df.content = df.content.astype(str)\n",
    "df.content = df.content.str.lower()\n",
    "df.head()"
   ]
  },
  {
   "cell_type": "markdown",
   "id": "13256e33",
   "metadata": {
    "id": "FB5HhAn8DOrf",
    "papermill": {
     "duration": 0.017575,
     "end_time": "2025-03-07T01:51:11.073946",
     "exception": false,
     "start_time": "2025-03-07T01:51:11.056371",
     "status": "completed"
    },
    "tags": []
   },
   "source": [
    "## Eliminación signos de puntuación"
   ]
  },
  {
   "cell_type": "code",
   "execution_count": 24,
   "id": "0adb3b32",
   "metadata": {
    "execution": {
     "iopub.execute_input": "2025-03-07T01:51:11.111278Z",
     "iopub.status.busy": "2025-03-07T01:51:11.110904Z",
     "iopub.status.idle": "2025-03-07T01:51:11.116587Z",
     "shell.execute_reply": "2025-03-07T01:51:11.114949Z"
    },
    "id": "FzxK3FV9AwQ8",
    "outputId": "7d8fd909-7f65-4feb-cc41-a557bb6bc971",
    "papermill": {
     "duration": 0.026669,
     "end_time": "2025-03-07T01:51:11.118956",
     "exception": false,
     "start_time": "2025-03-07T01:51:11.092287",
     "status": "completed"
    },
    "tags": []
   },
   "outputs": [
    {
     "data": {
      "text/plain": [
       "'!\"#$%&\\'()*+,-./:;<=>?@[\\\\]^_`{|}~'"
      ]
     },
     "execution_count": 24,
     "metadata": {},
     "output_type": "execute_result"
    }
   ],
   "source": [
    "string.punctuation"
   ]
  },
  {
   "cell_type": "code",
   "execution_count": 25,
   "id": "19cb06ae",
   "metadata": {
    "execution": {
     "iopub.execute_input": "2025-03-07T01:51:11.157532Z",
     "iopub.status.busy": "2025-03-07T01:51:11.157217Z",
     "iopub.status.idle": "2025-03-07T01:51:11.162467Z",
     "shell.execute_reply": "2025-03-07T01:51:11.160802Z"
    },
    "id": "CA9lGleVDSvW",
    "outputId": "59c4d450-05a3-49a4-b14b-b0fce63f112f",
    "papermill": {
     "duration": 0.025715,
     "end_time": "2025-03-07T01:51:11.164199",
     "exception": false,
     "start_time": "2025-03-07T01:51:11.138484",
     "status": "completed"
    },
    "tags": []
   },
   "outputs": [
    {
     "name": "stdout",
     "output_type": "stream",
     "text": [
      "Vamos a probar\n"
     ]
    }
   ],
   "source": [
    "excluir = string.punctuation\n",
    "def eliminar_signos(texto):\n",
    "    return texto.translate(str.maketrans('', '', excluir))\n",
    "\n",
    "#Pequeña prueba\n",
    "texto='Vamos,./ a ++probar//.,'\n",
    "print(eliminar_signos(texto))\n",
    "\n",
    "del texto"
   ]
  },
  {
   "cell_type": "code",
   "execution_count": 26,
   "id": "34a0fbe2",
   "metadata": {
    "execution": {
     "iopub.execute_input": "2025-03-07T01:51:11.201775Z",
     "iopub.status.busy": "2025-03-07T01:51:11.201352Z",
     "iopub.status.idle": "2025-03-07T01:51:11.562664Z",
     "shell.execute_reply": "2025-03-07T01:51:11.561755Z"
    },
    "id": "Cyt3exLgDfha",
    "papermill": {
     "duration": 0.382012,
     "end_time": "2025-03-07T01:51:11.564446",
     "exception": false,
     "start_time": "2025-03-07T01:51:11.182434",
     "status": "completed"
    },
    "tags": []
   },
   "outputs": [],
   "source": [
    "df.content = df.content.apply(eliminar_signos)"
   ]
  },
  {
   "cell_type": "code",
   "execution_count": 27,
   "id": "ab1fd976",
   "metadata": {
    "execution": {
     "iopub.execute_input": "2025-03-07T01:51:11.603802Z",
     "iopub.status.busy": "2025-03-07T01:51:11.603420Z",
     "iopub.status.idle": "2025-03-07T01:51:11.611926Z",
     "shell.execute_reply": "2025-03-07T01:51:11.611141Z"
    },
    "id": "BOw8RyUPDybp",
    "outputId": "39b8f206-f03e-49a1-ab21-499cf98d998c",
    "papermill": {
     "duration": 0.029767,
     "end_time": "2025-03-07T01:51:11.613696",
     "exception": false,
     "start_time": "2025-03-07T01:51:11.583929",
     "status": "completed"
    },
    "tags": []
   },
   "outputs": [
    {
     "data": {
      "text/html": [
       "<div>\n",
       "<style scoped>\n",
       "    .dataframe tbody tr th:only-of-type {\n",
       "        vertical-align: middle;\n",
       "    }\n",
       "\n",
       "    .dataframe tbody tr th {\n",
       "        vertical-align: top;\n",
       "    }\n",
       "\n",
       "    .dataframe thead th {\n",
       "        text-align: right;\n",
       "    }\n",
       "</style>\n",
       "<table border=\"1\" class=\"dataframe\">\n",
       "  <thead>\n",
       "    <tr style=\"text-align: right;\">\n",
       "      <th></th>\n",
       "      <th>Unnamed: 0</th>\n",
       "      <th>userName</th>\n",
       "      <th>content</th>\n",
       "      <th>score</th>\n",
       "      <th>thumbsUpCount</th>\n",
       "      <th>at</th>\n",
       "    </tr>\n",
       "  </thead>\n",
       "  <tbody>\n",
       "    <tr>\n",
       "      <th>0</th>\n",
       "      <td>0</td>\n",
       "      <td>T H (Trudylh20)</td>\n",
       "      <td>excellent im impressed 👌 👏</td>\n",
       "      <td>1</td>\n",
       "      <td>0</td>\n",
       "      <td>28-06-2024 21:07</td>\n",
       "    </tr>\n",
       "    <tr>\n",
       "      <th>1</th>\n",
       "      <td>1</td>\n",
       "      <td>Muhammad bassam adam</td>\n",
       "      <td>perfect</td>\n",
       "      <td>1</td>\n",
       "      <td>0</td>\n",
       "      <td>28-06-2024 20:56</td>\n",
       "    </tr>\n",
       "    <tr>\n",
       "      <th>2</th>\n",
       "      <td>2</td>\n",
       "      <td>Chinaza Okoli</td>\n",
       "      <td>its been so helpfullove it</td>\n",
       "      <td>1</td>\n",
       "      <td>0</td>\n",
       "      <td>28-06-2024 20:54</td>\n",
       "    </tr>\n",
       "    <tr>\n",
       "      <th>3</th>\n",
       "      <td>3</td>\n",
       "      <td>Project House Group Ltd</td>\n",
       "      <td>its amazing tools help me a lot with my work</td>\n",
       "      <td>1</td>\n",
       "      <td>0</td>\n",
       "      <td>28-06-2024 20:51</td>\n",
       "    </tr>\n",
       "    <tr>\n",
       "      <th>4</th>\n",
       "      <td>4</td>\n",
       "      <td>Safoan Riyad</td>\n",
       "      <td>i enjoyed chatgpt but last update ruined every...</td>\n",
       "      <td>0</td>\n",
       "      <td>0</td>\n",
       "      <td>28-06-2024 20:50</td>\n",
       "    </tr>\n",
       "  </tbody>\n",
       "</table>\n",
       "</div>"
      ],
      "text/plain": [
       "   Unnamed: 0                 userName  \\\n",
       "0           0          T H (Trudylh20)   \n",
       "1           1     Muhammad bassam adam   \n",
       "2           2            Chinaza Okoli   \n",
       "3           3  Project House Group Ltd   \n",
       "4           4             Safoan Riyad   \n",
       "\n",
       "                                             content  score  thumbsUpCount  \\\n",
       "0                         excellent im impressed 👌 👏      1              0   \n",
       "1                                            perfect      1              0   \n",
       "2                         its been so helpfullove it      1              0   \n",
       "3       its amazing tools help me a lot with my work      1              0   \n",
       "4  i enjoyed chatgpt but last update ruined every...      0              0   \n",
       "\n",
       "                 at  \n",
       "0  28-06-2024 21:07  \n",
       "1  28-06-2024 20:56  \n",
       "2  28-06-2024 20:54  \n",
       "3  28-06-2024 20:51  \n",
       "4  28-06-2024 20:50  "
      ]
     },
     "execution_count": 27,
     "metadata": {},
     "output_type": "execute_result"
    }
   ],
   "source": [
    "df.head()"
   ]
  },
  {
   "cell_type": "markdown",
   "id": "bbc9329e",
   "metadata": {
    "id": "uEcmI6GoFQ36",
    "papermill": {
     "duration": 0.017346,
     "end_time": "2025-03-07T01:51:11.649522",
     "exception": false,
     "start_time": "2025-03-07T01:51:11.632176",
     "status": "completed"
    },
    "tags": []
   },
   "source": [
    "## Tratamiento abreviaciones generación Z (GenZ Lingo)"
   ]
  },
  {
   "cell_type": "code",
   "execution_count": 28,
   "id": "9ef70d9a",
   "metadata": {
    "execution": {
     "iopub.execute_input": "2025-03-07T01:51:11.686436Z",
     "iopub.status.busy": "2025-03-07T01:51:11.686118Z",
     "iopub.status.idle": "2025-03-07T01:51:11.693494Z",
     "shell.execute_reply": "2025-03-07T01:51:11.692727Z"
    },
    "id": "svd6todOD0v-",
    "papermill": {
     "duration": 0.027423,
     "end_time": "2025-03-07T01:51:11.695196",
     "exception": false,
     "start_time": "2025-03-07T01:51:11.667773",
     "status": "completed"
    },
    "tags": []
   },
   "outputs": [],
   "source": [
    "abreviaciones = {\n",
    "    'AFAIK': 'as far as i know',\n",
    "    'AFK': 'away from keyboard',\n",
    "    'ASAP': 'as soon as possible',\n",
    "    'ATK': 'at the keyboard',\n",
    "    'ATM': 'at the moment',\n",
    "    'A3': 'anytime, anywhere, anyplace',\n",
    "    'BAK': 'back at keyboard',\n",
    "    'BBL': 'be back later',\n",
    "    'BBS': 'be back soon',\n",
    "    'BFN': 'bye for now',\n",
    "    'B4N': 'bye for now',\n",
    "    'BRB': 'be right back',\n",
    "    'BRT': 'be right there',\n",
    "    'BTW': 'by the way',\n",
    "    'B4': 'before',\n",
    "    'CU': 'see you',\n",
    "    'CUL8R': 'see you later',\n",
    "    'CYA': 'see you',\n",
    "    'FAQ': 'frequently asked questions',\n",
    "    'FC': 'fingers crossed',\n",
    "    'FWIW': \"for what it's worth\",\n",
    "    'FYI': 'for your information',\n",
    "    'GAL': 'get a life',\n",
    "    'GG': 'good game',\n",
    "    'GN': 'good night',\n",
    "    'GMTA': 'great minds think alike',\n",
    "    'GR8': 'great!',\n",
    "    'G9': 'genius',\n",
    "    'IC': 'i see',\n",
    "    'ICQ': 'i seek you (also a chat program)',\n",
    "    'ILU': 'ilu: i love you',\n",
    "    'IMHO': 'in my honest/humble opinion',\n",
    "    'IMO': 'in my opinion',\n",
    "    'IOW': 'in other words',\n",
    "    'IRL': 'in real life',\n",
    "    'KISS': 'keep it simple, stupid',\n",
    "    'LDR': 'long distance relationship',\n",
    "    'LMAO': 'laugh my a.. off',\n",
    "    'LOL': 'laughing out loud',\n",
    "    'LTNS': 'long time no see',\n",
    "    'L8R': 'later',\n",
    "    'MTE': 'my thoughts exactly',\n",
    "    'M8': 'mate',\n",
    "    'NRN': 'no reply necessary',\n",
    "    'OIC': 'oh i see',\n",
    "    'PITA': 'pain in the ass',\n",
    "    'PRT': 'party',\n",
    "    'PRW': 'parents are watching',\n",
    "    'QPSA?': 'que pasa?',\n",
    "    'ROFL': 'rolling on the floor laughing',\n",
    "    'ROFLOL': 'rolling on the floor laughing out loud',\n",
    "    'ROTFLMAO': 'rolling on the floor laughing my a.. off',\n",
    "    'SK8': 'skate',\n",
    "    'STATS': 'your sex and age',\n",
    "    'ASL': 'age, sex, location',\n",
    "    'THX': 'thank you',\n",
    "    'TTFN': 'ta-ta for now!',\n",
    "    'TTYL': 'talk to you later',\n",
    "    'U': 'you',\n",
    "    'U2': 'you too',\n",
    "    'U4E': 'yours for ever',\n",
    "    'WB': 'welcome back',\n",
    "    'WTF': 'what the f...',\n",
    "    'WTG': 'way to go!',\n",
    "    'WUF': 'where are you from?',\n",
    "    'W8': 'wait...',\n",
    "    '7K': 'sick:-d laugher',\n",
    "    'TFW': 'that feeling when',\n",
    "    'MFW': 'my face when',\n",
    "    'MRW': 'my reaction when',\n",
    "    'IFYP': 'i feel your pain',\n",
    "    'TNTL': 'trying not to laugh',\n",
    "    'JK': 'just kidding',\n",
    "    'IDC': \"i don't care\",\n",
    "    'ILY': 'i love you',\n",
    "    'IMU': 'i miss you',\n",
    "    'ADIH': 'another day in hell',\n",
    "    'ZZZ': 'sleeping, bored, tired',\n",
    "    'WYWH': 'wish you were here',\n",
    "    'TIME': 'tears in my eyes',\n",
    "    'BAE': 'before anyone else',\n",
    "    'FIMH': 'forever in my heart',\n",
    "    'BSAAW': 'big smile and a wink',\n",
    "    'BWL': 'bursting with laughter',\n",
    "    'BFF': 'best friends forever',\n",
    "    'CSL': \"can't stop laughing\"\n",
    "}\n"
   ]
  },
  {
   "cell_type": "code",
   "execution_count": 29,
   "id": "32facb46",
   "metadata": {
    "execution": {
     "iopub.execute_input": "2025-03-07T01:51:11.733504Z",
     "iopub.status.busy": "2025-03-07T01:51:11.733133Z",
     "iopub.status.idle": "2025-03-07T01:51:11.740252Z",
     "shell.execute_reply": "2025-03-07T01:51:11.738887Z"
    },
    "id": "zKNr67bCFW7N",
    "outputId": "9b9daeb4-5e0d-4d55-86c4-c7c3b7391811",
    "papermill": {
     "duration": 0.027339,
     "end_time": "2025-03-07T01:51:11.742066",
     "exception": false,
     "start_time": "2025-03-07T01:51:11.714727",
     "status": "completed"
    },
    "tags": []
   },
   "outputs": [
    {
     "data": {
      "text/plain": [
       "\"I don't like the app by the way\""
      ]
     },
     "execution_count": 29,
     "metadata": {},
     "output_type": "execute_result"
    }
   ],
   "source": [
    "def reemplazar_abreviaciones(texto):\n",
    "    texto_nuevo = []\n",
    "    for palabra in texto.split(): # Splitemaos nuestro content e iteramos\n",
    "        # Si hay una abreviación, apender\n",
    "        if palabra.upper() in abreviaciones:\n",
    "            texto_nuevo.append(abreviaciones[palabra.upper()])\n",
    "        else:\n",
    "            texto_nuevo.append(palabra)\n",
    "    return \" \".join(texto_nuevo)\n",
    "\n",
    "\n",
    "reemplazar_abreviaciones(\"I don't like the app btw\")\n"
   ]
  },
  {
   "cell_type": "code",
   "execution_count": 30,
   "id": "d1c44a2a",
   "metadata": {
    "execution": {
     "iopub.execute_input": "2025-03-07T01:51:11.780100Z",
     "iopub.status.busy": "2025-03-07T01:51:11.779766Z",
     "iopub.status.idle": "2025-03-07T01:51:12.075331Z",
     "shell.execute_reply": "2025-03-07T01:51:12.074402Z"
    },
    "id": "H3P0ZEQGI8OU",
    "papermill": {
     "duration": 0.316727,
     "end_time": "2025-03-07T01:51:12.077083",
     "exception": false,
     "start_time": "2025-03-07T01:51:11.760356",
     "status": "completed"
    },
    "tags": []
   },
   "outputs": [],
   "source": [
    "df.content = df.content.apply(reemplazar_abreviaciones)"
   ]
  },
  {
   "cell_type": "code",
   "execution_count": 31,
   "id": "619cb956",
   "metadata": {
    "execution": {
     "iopub.execute_input": "2025-03-07T01:51:12.117835Z",
     "iopub.status.busy": "2025-03-07T01:51:12.117417Z",
     "iopub.status.idle": "2025-03-07T01:51:12.124797Z",
     "shell.execute_reply": "2025-03-07T01:51:12.123076Z"
    },
    "id": "Gt7tqzrKR_Rf",
    "outputId": "bc014973-815e-4483-e489-89becab60033",
    "papermill": {
     "duration": 0.028946,
     "end_time": "2025-03-07T01:51:12.126525",
     "exception": false,
     "start_time": "2025-03-07T01:51:12.097579",
     "status": "completed"
    },
    "tags": []
   },
   "outputs": [
    {
     "data": {
      "text/plain": [
       "0                                excellent im impressed 👌 👏\n",
       "1                                                   perfect\n",
       "2                                its been so helpfullove it\n",
       "3              its amazing tools help me a lot with my work\n",
       "4         i enjoyed chatgpt but last update ruined every...\n",
       "                                ...                        \n",
       "149714                                          update 2023\n",
       "149715                                            its grear\n",
       "149716                                        funtastic app\n",
       "149717                                               hi all\n",
       "149718                                   expert application\n",
       "Name: content, Length: 149719, dtype: object"
      ]
     },
     "execution_count": 31,
     "metadata": {},
     "output_type": "execute_result"
    }
   ],
   "source": [
    "df.content"
   ]
  },
  {
   "cell_type": "markdown",
   "id": "936c614c",
   "metadata": {
    "id": "tc-3Y-eZN8pf",
    "papermill": {
     "duration": 0.020604,
     "end_time": "2025-03-07T01:51:12.167683",
     "exception": false,
     "start_time": "2025-03-07T01:51:12.147079",
     "status": "completed"
    },
    "tags": []
   },
   "source": [
    "## Stop Words"
   ]
  },
  {
   "cell_type": "markdown",
   "id": "d608c3a5",
   "metadata": {
    "id": "ZcFkgzgjObTh",
    "papermill": {
     "duration": 0.017948,
     "end_time": "2025-03-07T01:51:12.203292",
     "exception": false,
     "start_time": "2025-03-07T01:51:12.185344",
     "status": "completed"
    },
    "tags": []
   },
   "source": [
    "Las stop words son"
   ]
  },
  {
   "cell_type": "markdown",
   "id": "6b9d5fdb",
   "metadata": {
    "id": "AUcYrHWgOc2Q",
    "papermill": {
     "duration": 0.016776,
     "end_time": "2025-03-07T01:51:12.238019",
     "exception": false,
     "start_time": "2025-03-07T01:51:12.221243",
     "status": "completed"
    },
    "tags": []
   },
   "source": [
    "Utilizaremos NLTK en INGLES ya que nuyestro dataset está basado en ese idioma"
   ]
  },
  {
   "cell_type": "code",
   "execution_count": 32,
   "id": "4e9d0e01",
   "metadata": {
    "execution": {
     "iopub.execute_input": "2025-03-07T01:51:12.274275Z",
     "iopub.status.busy": "2025-03-07T01:51:12.273902Z",
     "iopub.status.idle": "2025-03-07T01:51:12.281950Z",
     "shell.execute_reply": "2025-03-07T01:51:12.281104Z"
    },
    "id": "6Yq2yO0RJDyn",
    "outputId": "55b6b4c4-fd86-4fb8-b947-360b48c50b70",
    "papermill": {
     "duration": 0.027696,
     "end_time": "2025-03-07T01:51:12.283186",
     "exception": false,
     "start_time": "2025-03-07T01:51:12.255490",
     "status": "completed"
    },
    "tags": []
   },
   "outputs": [
    {
     "data": {
      "text/plain": [
       "['a',\n",
       " 'about',\n",
       " 'above',\n",
       " 'after',\n",
       " 'again',\n",
       " 'against',\n",
       " 'ain',\n",
       " 'all',\n",
       " 'am',\n",
       " 'an',\n",
       " 'and',\n",
       " 'any',\n",
       " 'are',\n",
       " 'aren',\n",
       " \"aren't\",\n",
       " 'as',\n",
       " 'at',\n",
       " 'be',\n",
       " 'because',\n",
       " 'been',\n",
       " 'before',\n",
       " 'being',\n",
       " 'below',\n",
       " 'between',\n",
       " 'both',\n",
       " 'but',\n",
       " 'by',\n",
       " 'can',\n",
       " 'couldn',\n",
       " \"couldn't\",\n",
       " 'd',\n",
       " 'did',\n",
       " 'didn',\n",
       " \"didn't\",\n",
       " 'do',\n",
       " 'does',\n",
       " 'doesn',\n",
       " \"doesn't\",\n",
       " 'doing',\n",
       " 'don',\n",
       " \"don't\",\n",
       " 'down',\n",
       " 'during',\n",
       " 'each',\n",
       " 'few',\n",
       " 'for',\n",
       " 'from',\n",
       " 'further',\n",
       " 'had',\n",
       " 'hadn',\n",
       " \"hadn't\",\n",
       " 'has',\n",
       " 'hasn',\n",
       " \"hasn't\",\n",
       " 'have',\n",
       " 'haven',\n",
       " \"haven't\",\n",
       " 'having',\n",
       " 'he',\n",
       " \"he'd\",\n",
       " \"he'll\",\n",
       " 'her',\n",
       " 'here',\n",
       " 'hers',\n",
       " 'herself',\n",
       " \"he's\",\n",
       " 'him',\n",
       " 'himself',\n",
       " 'his',\n",
       " 'how',\n",
       " 'i',\n",
       " \"i'd\",\n",
       " 'if',\n",
       " \"i'll\",\n",
       " \"i'm\",\n",
       " 'in',\n",
       " 'into',\n",
       " 'is',\n",
       " 'isn',\n",
       " \"isn't\",\n",
       " 'it',\n",
       " \"it'd\",\n",
       " \"it'll\",\n",
       " \"it's\",\n",
       " 'its',\n",
       " 'itself',\n",
       " \"i've\",\n",
       " 'just',\n",
       " 'll',\n",
       " 'm',\n",
       " 'ma',\n",
       " 'me',\n",
       " 'mightn',\n",
       " \"mightn't\",\n",
       " 'more',\n",
       " 'most',\n",
       " 'mustn',\n",
       " \"mustn't\",\n",
       " 'my',\n",
       " 'myself',\n",
       " 'needn',\n",
       " \"needn't\",\n",
       " 'no',\n",
       " 'nor',\n",
       " 'not',\n",
       " 'now',\n",
       " 'o',\n",
       " 'of',\n",
       " 'off',\n",
       " 'on',\n",
       " 'once',\n",
       " 'only',\n",
       " 'or',\n",
       " 'other',\n",
       " 'our',\n",
       " 'ours',\n",
       " 'ourselves',\n",
       " 'out',\n",
       " 'over',\n",
       " 'own',\n",
       " 're',\n",
       " 's',\n",
       " 'same',\n",
       " 'shan',\n",
       " \"shan't\",\n",
       " 'she',\n",
       " \"she'd\",\n",
       " \"she'll\",\n",
       " \"she's\",\n",
       " 'should',\n",
       " 'shouldn',\n",
       " \"shouldn't\",\n",
       " \"should've\",\n",
       " 'so',\n",
       " 'some',\n",
       " 'such',\n",
       " 't',\n",
       " 'than',\n",
       " 'that',\n",
       " \"that'll\",\n",
       " 'the',\n",
       " 'their',\n",
       " 'theirs',\n",
       " 'them',\n",
       " 'themselves',\n",
       " 'then',\n",
       " 'there',\n",
       " 'these',\n",
       " 'they',\n",
       " \"they'd\",\n",
       " \"they'll\",\n",
       " \"they're\",\n",
       " \"they've\",\n",
       " 'this',\n",
       " 'those',\n",
       " 'through',\n",
       " 'to',\n",
       " 'too',\n",
       " 'under',\n",
       " 'until',\n",
       " 'up',\n",
       " 've',\n",
       " 'very',\n",
       " 'was',\n",
       " 'wasn',\n",
       " \"wasn't\",\n",
       " 'we',\n",
       " \"we'd\",\n",
       " \"we'll\",\n",
       " \"we're\",\n",
       " 'were',\n",
       " 'weren',\n",
       " \"weren't\",\n",
       " \"we've\",\n",
       " 'what',\n",
       " 'when',\n",
       " 'where',\n",
       " 'which',\n",
       " 'while',\n",
       " 'who',\n",
       " 'whom',\n",
       " 'why',\n",
       " 'will',\n",
       " 'with',\n",
       " 'won',\n",
       " \"won't\",\n",
       " 'wouldn',\n",
       " \"wouldn't\",\n",
       " 'y',\n",
       " 'you',\n",
       " \"you'd\",\n",
       " \"you'll\",\n",
       " 'your',\n",
       " \"you're\",\n",
       " 'yours',\n",
       " 'yourself',\n",
       " 'yourselves',\n",
       " \"you've\"]"
      ]
     },
     "execution_count": 32,
     "metadata": {},
     "output_type": "execute_result"
    }
   ],
   "source": [
    "stopwords.words(\"english\")"
   ]
  },
  {
   "cell_type": "code",
   "execution_count": 33,
   "id": "97c2b7b3",
   "metadata": {
    "execution": {
     "iopub.execute_input": "2025-03-07T01:51:12.321660Z",
     "iopub.status.busy": "2025-03-07T01:51:12.321242Z",
     "iopub.status.idle": "2025-03-07T01:51:12.327163Z",
     "shell.execute_reply": "2025-03-07T01:51:12.325914Z"
    },
    "id": "l1i7Df_bN_hr",
    "outputId": "26f04cbf-5043-4956-8cb5-be11db816ccc",
    "papermill": {
     "duration": 0.026436,
     "end_time": "2025-03-07T01:51:12.329162",
     "exception": false,
     "start_time": "2025-03-07T01:51:12.302726",
     "status": "completed"
    },
    "tags": []
   },
   "outputs": [
    {
     "name": "stdout",
     "output_type": "stream",
     "text": [
      "sure might happened\n"
     ]
    }
   ],
   "source": [
    "def eliminar_stopwords(texto):\n",
    "    stop_words = set(stopwords.words(\"english\"))\n",
    "\n",
    "    # Filtramos las palabras que no están en las stopwords\n",
    "    nuevo_texto = [palabra for palabra in texto.split() if palabra.lower() not in stop_words]\n",
    "\n",
    "    # Unimos las palabras que no están a una misma cadena.\n",
    "    return \" \".join(nuevo_texto)\n",
    "\n",
    "texto=\"I wasn't sure that this might happened\"\n",
    "print(eliminar_stopwords(texto))\n",
    "\n",
    "del texto"
   ]
  },
  {
   "cell_type": "code",
   "execution_count": 34,
   "id": "ec7ae1fd",
   "metadata": {
    "execution": {
     "iopub.execute_input": "2025-03-07T01:51:12.366581Z",
     "iopub.status.busy": "2025-03-07T01:51:12.366208Z",
     "iopub.status.idle": "2025-03-07T01:51:25.633441Z",
     "shell.execute_reply": "2025-03-07T01:51:25.631409Z"
    },
    "id": "CLmM-oH4RAMU",
    "papermill": {
     "duration": 13.287638,
     "end_time": "2025-03-07T01:51:25.635596",
     "exception": false,
     "start_time": "2025-03-07T01:51:12.347958",
     "status": "completed"
    },
    "tags": []
   },
   "outputs": [],
   "source": [
    "df.content = df.content.apply(eliminar_stopwords)"
   ]
  },
  {
   "cell_type": "code",
   "execution_count": 35,
   "id": "8d733099",
   "metadata": {
    "execution": {
     "iopub.execute_input": "2025-03-07T01:51:25.672794Z",
     "iopub.status.busy": "2025-03-07T01:51:25.672440Z",
     "iopub.status.idle": "2025-03-07T01:51:25.679972Z",
     "shell.execute_reply": "2025-03-07T01:51:25.678795Z"
    },
    "id": "ip4MHFe0Rrcc",
    "outputId": "9a07224c-e93a-49f5-926d-254c37b6e440",
    "papermill": {
     "duration": 0.027465,
     "end_time": "2025-03-07T01:51:25.681266",
     "exception": false,
     "start_time": "2025-03-07T01:51:25.653801",
     "status": "completed"
    },
    "tags": []
   },
   "outputs": [
    {
     "data": {
      "text/plain": [
       "0                                excellent im impressed 👌 👏\n",
       "1                                                   perfect\n",
       "2                                               helpfullove\n",
       "3                               amazing tools help lot work\n",
       "4         enjoyed chatgpt last update ruined everything ...\n",
       "                                ...                        \n",
       "149714                                          update 2023\n",
       "149715                                                grear\n",
       "149716                                        funtastic app\n",
       "149717                                                   hi\n",
       "149718                                   expert application\n",
       "Name: content, Length: 149719, dtype: object"
      ]
     },
     "execution_count": 35,
     "metadata": {},
     "output_type": "execute_result"
    }
   ],
   "source": [
    "df.content"
   ]
  },
  {
   "cell_type": "markdown",
   "id": "b3e96a1d",
   "metadata": {
    "id": "irt6-r7wPnhE",
    "papermill": {
     "duration": 0.01898,
     "end_time": "2025-03-07T01:51:25.720322",
     "exception": false,
     "start_time": "2025-03-07T01:51:25.701342",
     "status": "completed"
    },
    "tags": []
   },
   "source": [
    "## Emojis\n"
   ]
  },
  {
   "cell_type": "markdown",
   "id": "f24d3ba9",
   "metadata": {
    "id": "LXqpIZqiPogr",
    "papermill": {
     "duration": 0.019897,
     "end_time": "2025-03-07T01:51:25.758899",
     "exception": false,
     "start_time": "2025-03-07T01:51:25.739002",
     "status": "completed"
    },
    "tags": []
   },
   "source": [
    "Como se puede ver, en nuestro dataset hay un uso recurrente de emojis, variante que tendremos que tratar."
   ]
  },
  {
   "cell_type": "markdown",
   "id": "efd11b57",
   "metadata": {
    "id": "fBiFwjicPvxV",
    "papermill": {
     "duration": 0.01798,
     "end_time": "2025-03-07T01:51:25.795333",
     "exception": false,
     "start_time": "2025-03-07T01:51:25.777353",
     "status": "completed"
    },
    "tags": []
   },
   "source": [
    "Utilizaremos regex para tratar los emojis. Utilizaremos el unicode de los emojis para eliminarlos.\n",
    "\n",
    "Sin embargo, tenemos otra variable, y es que hay reviews únicamente formada de emojis, entonces, trataremos esas dos variables de la siguiente forma:\n",
    "1. Texto y emoji = Eliminamos los emojis\n",
    "2. Solo emojis = Conservamos los emojis **en texto** para no perder esa información\n",
    "\n",
    "Para la 2da variable, utilizaremos la variable emoji."
   ]
  },
  {
   "cell_type": "code",
   "execution_count": 36,
   "id": "1ddb7787",
   "metadata": {
    "execution": {
     "iopub.execute_input": "2025-03-07T01:51:25.832398Z",
     "iopub.status.busy": "2025-03-07T01:51:25.832135Z",
     "iopub.status.idle": "2025-03-07T01:51:25.837728Z",
     "shell.execute_reply": "2025-03-07T01:51:25.836825Z"
    },
    "id": "kS9-4f18PARA",
    "papermill": {
     "duration": 0.026667,
     "end_time": "2025-03-07T01:51:25.839963",
     "exception": false,
     "start_time": "2025-03-07T01:51:25.813296",
     "status": "completed"
    },
    "tags": []
   },
   "outputs": [],
   "source": [
    "def eliminar_emojis(texto):\n",
    "    # Si el texto es únicamente emojis\n",
    "    if all(char in emoji.EMOJI_DATA for char in texto):\n",
    "        texto = emoji.demojize(texto)  # Convierte los emojis a texto\n",
    "\n",
    "        # Al utilizar demojize, representa los emojis como :(palabra-palabra...):\n",
    "        # Por lo tanto, reemplazaremos esos valores para tener palabras clave de los emojis bien segmentadas\n",
    "        # Y para que la tokenización no lo tome como solo una palabra\n",
    "        # Utilizaremos regex para esto:\n",
    "\n",
    "        texto = re.sub(r'_', ' ', texto)  # Reemplaza guiones por espacios\n",
    "        texto = re.sub(r'::', ' ', texto)  # Elimina los dos puntos (SOlo aplicable si hay más de 1 emoji) (:emoji::emoji:)\n",
    "        texto = re.sub(r':', '', texto)  # Elimina los dos puntos (Eliminamos los : de los extremos)\n",
    "\n",
    "        # Lo único que nos quedaría tratar acá es que si se repiten emojis, solo mantengamos uno\n",
    "        # De esta forma, reducimos la complejidad de estos campos para el futuro modelo.\n",
    "\n",
    "        # Eliminamos los emojis duplicados\n",
    "        # Usamos un dict ya que este no admite repetidos.\n",
    "        palabras_unicas = list(dict.fromkeys(texto.split()))\n",
    "        texto = ' '.join(palabras_unicas)\n",
    "\n",
    "        # Hay que tener en cuenta que ya daría las palabras clave para la tokenización,\n",
    "        # Pero si usamos emojis de caras, la palabra 'face' va a estar solo una vez, no como prefijo a cada adjetivo\n",
    "\n",
    "        return texto  # Returneamos el demojize pasado en blanco\n",
    "\n",
    "    else: # Si es texto + emojis, se aplica esto\n",
    "      # Emojis a eliminar\n",
    "      patron_emoji = re.compile(\"[\"\n",
    "                                u\"\\U0001F600-\\U0001F64F\"  # Emoticonos\n",
    "                                u\"\\U0001F300-\\U0001F5FF\"  # Símbolos y pictogramas diversos\n",
    "                                u\"\\U0001F680-\\U0001F6FF\"  # Transporte y símbolos de mapas\n",
    "                                u\"\\U0001F700-\\U0001F77F\"  # Símbolos alquímicos\n",
    "                                u\"\\U0001F780-\\U0001F7FF\"  # Símbolos geométricos\n",
    "                                u\"\\U0001F800-\\U0001F8FF\"  # Símbolos con flechas\n",
    "                                u\"\\U0001F900-\\U0001F9FF\"  # Otros símbolos\n",
    "                                u\"\\U0001FA00-\\U0001FA6F\"  # Objetos\n",
    "                                u\"\\U0001FA70-\\U0001FAFF\"  # Otros símbolos\n",
    "                                u\"\\U00002702-\\U000027B0\"  # Otros símbolos\n",
    "                                u\"\\U000024C2-\\U0001F251\"  # Símbolos circulares\n",
    "                                \"]+\", flags=re.UNICODE)\n",
    "\n",
    "      # Eliminar emojis del texto\n",
    "      return patron_emoji.sub(r'', texto)"
   ]
  },
  {
   "cell_type": "code",
   "execution_count": 37,
   "id": "1756faa7",
   "metadata": {
    "execution": {
     "iopub.execute_input": "2025-03-07T01:51:25.881045Z",
     "iopub.status.busy": "2025-03-07T01:51:25.880689Z",
     "iopub.status.idle": "2025-03-07T01:51:25.896257Z",
     "shell.execute_reply": "2025-03-07T01:51:25.895207Z"
    },
    "id": "Z5EbCMVYESkQ",
    "outputId": "e8cb6a1c-31e4-4929-b221-3015331d8008",
    "papermill": {
     "duration": 0.037341,
     "end_time": "2025-03-07T01:51:25.897791",
     "exception": false,
     "start_time": "2025-03-07T01:51:25.860450",
     "status": "completed"
    },
    "tags": []
   },
   "outputs": [
    {
     "name": "stdout",
     "output_type": "stream",
     "text": [
      "Eso no es divertido😭😭😭, basta por favor 🤢\n",
      "Eso no es divertido, basta por favor \n",
      "🥵🥵🤢\n",
      "hot face nauseated\n"
     ]
    }
   ],
   "source": [
    "# Ejemplo de uso\n",
    "texto = \"Eso no es divertido😭😭😭, basta por favor 🤢\"\n",
    "x = \"🥵🥵🤢\"\n",
    "\n",
    "print(texto)\n",
    "print(eliminar_emojis(texto))\n",
    "\n",
    "print(x)\n",
    "print(eliminar_emojis(x))\n",
    "\n",
    "del texto"
   ]
  },
  {
   "cell_type": "markdown",
   "id": "944439f0",
   "metadata": {
    "id": "q4XJ2dOCQvsO",
    "papermill": {
     "duration": 0.017901,
     "end_time": "2025-03-07T01:51:25.934434",
     "exception": false,
     "start_time": "2025-03-07T01:51:25.916533",
     "status": "completed"
    },
    "tags": []
   },
   "source": [
    "Ahora que tenemos una función optimizada para los dos casos, aplicamos la función eliminar_emoji al dataset"
   ]
  },
  {
   "cell_type": "code",
   "execution_count": 38,
   "id": "3496bc92",
   "metadata": {
    "execution": {
     "iopub.execute_input": "2025-03-07T01:51:25.972510Z",
     "iopub.status.busy": "2025-03-07T01:51:25.972194Z",
     "iopub.status.idle": "2025-03-07T01:51:26.960579Z",
     "shell.execute_reply": "2025-03-07T01:51:26.959041Z"
    },
    "id": "Ty_FNI5EQyv4",
    "papermill": {
     "duration": 1.009946,
     "end_time": "2025-03-07T01:51:26.962727",
     "exception": false,
     "start_time": "2025-03-07T01:51:25.952781",
     "status": "completed"
    },
    "tags": []
   },
   "outputs": [],
   "source": [
    "df.content = df.content.apply(eliminar_emojis)"
   ]
  },
  {
   "cell_type": "code",
   "execution_count": 39,
   "id": "3b6864a9",
   "metadata": {
    "execution": {
     "iopub.execute_input": "2025-03-07T01:51:27.001684Z",
     "iopub.status.busy": "2025-03-07T01:51:27.001292Z",
     "iopub.status.idle": "2025-03-07T01:51:27.010951Z",
     "shell.execute_reply": "2025-03-07T01:51:27.009572Z"
    },
    "id": "BadEWvMYQ1Jd",
    "outputId": "93a7a187-78bf-4997-fd87-cd3a51ace572",
    "papermill": {
     "duration": 0.030973,
     "end_time": "2025-03-07T01:51:27.012498",
     "exception": false,
     "start_time": "2025-03-07T01:51:26.981525",
     "status": "completed"
    },
    "tags": []
   },
   "outputs": [
    {
     "data": {
      "text/plain": [
       "0                                  excellent im impressed  \n",
       "1                                                   perfect\n",
       "2                                               helpfullove\n",
       "3                               amazing tools help lot work\n",
       "4         enjoyed chatgpt last update ruined everything ...\n",
       "                                ...                        \n",
       "149714                                          update 2023\n",
       "149715                                                grear\n",
       "149716                                        funtastic app\n",
       "149717                                                   hi\n",
       "149718                                   expert application\n",
       "Name: content, Length: 149719, dtype: object"
      ]
     },
     "execution_count": 39,
     "metadata": {},
     "output_type": "execute_result"
    }
   ],
   "source": [
    "df.content"
   ]
  },
  {
   "cell_type": "markdown",
   "id": "5a76fdaa",
   "metadata": {
    "id": "aUSJX4JzdSYz",
    "papermill": {
     "duration": 0.018616,
     "end_time": "2025-03-07T01:51:27.050295",
     "exception": false,
     "start_time": "2025-03-07T01:51:27.031679",
     "status": "completed"
    },
    "tags": []
   },
   "source": [
    "Función para aplicar mismo proceso de preprocesamiento a otros datasets:\n",
    "\n",
    "nota:\n",
    "1. hay que entregar una dtaframe como parámetro, no la columna\n"
   ]
  },
  {
   "cell_type": "code",
   "execution_count": 40,
   "id": "a3c2a567",
   "metadata": {
    "execution": {
     "iopub.execute_input": "2025-03-07T01:51:27.089297Z",
     "iopub.status.busy": "2025-03-07T01:51:27.088988Z",
     "iopub.status.idle": "2025-03-07T01:51:27.093117Z",
     "shell.execute_reply": "2025-03-07T01:51:27.092254Z"
    },
    "id": "rwGkT5jFdR8x",
    "papermill": {
     "duration": 0.025953,
     "end_time": "2025-03-07T01:51:27.094933",
     "exception": false,
     "start_time": "2025-03-07T01:51:27.068980",
     "status": "completed"
    },
    "tags": []
   },
   "outputs": [],
   "source": [
    "def aplicar_preprocesamiento(df):\n",
    "  # Guardamos todos los pasos anteriores para aplicar lo mismo a futuros datasets.\n",
    "  df.content = df.content.astype(str)\n",
    "  df.content = df.content.str.lower()\n",
    "  df.content = df.content.apply(eliminar_signos)\n",
    "  df.content = df.content.apply(reemplazar_abreviaciones)\n",
    "  df.content = df.content.apply(eliminar_stopwords)\n",
    "  df.content = df.content.apply(eliminar_emojis)\n",
    "\n",
    "  return df\n"
   ]
  },
  {
   "cell_type": "markdown",
   "id": "b4f581bf",
   "metadata": {
    "id": "QDaS3h1oQeuB",
    "papermill": {
     "duration": 0.019293,
     "end_time": "2025-03-07T01:51:27.133519",
     "exception": false,
     "start_time": "2025-03-07T01:51:27.114226",
     "status": "completed"
    },
    "tags": []
   },
   "source": [
    "# Tokenización\n"
   ]
  },
  {
   "cell_type": "code",
   "execution_count": 41,
   "id": "97d9a16c",
   "metadata": {
    "execution": {
     "iopub.execute_input": "2025-03-07T01:51:27.172125Z",
     "iopub.status.busy": "2025-03-07T01:51:27.171768Z",
     "iopub.status.idle": "2025-03-07T01:51:28.111765Z",
     "shell.execute_reply": "2025-03-07T01:51:28.110446Z"
    },
    "id": "nGFyQ-9DwZ07",
    "papermill": {
     "duration": 0.961691,
     "end_time": "2025-03-07T01:51:28.113811",
     "exception": false,
     "start_time": "2025-03-07T01:51:27.152120",
     "status": "completed"
    },
    "tags": []
   },
   "outputs": [],
   "source": [
    "from sklearn.feature_extraction.text import TfidfVectorizer\n",
    "\n",
    "tfidf_vectorizer = TfidfVectorizer(max_features=5000, stop_words='english')\n",
    "X_tfidf = tfidf_vectorizer.fit_transform(df['content'])\n",
    "y = df['score']"
   ]
  },
  {
   "cell_type": "markdown",
   "id": "0f1b649a",
   "metadata": {
    "id": "I9KZMl8xEoWr",
    "papermill": {
     "duration": 0.023634,
     "end_time": "2025-03-07T01:51:28.159373",
     "exception": false,
     "start_time": "2025-03-07T01:51:28.135739",
     "status": "completed"
    },
    "tags": []
   },
   "source": [
    "# Split"
   ]
  },
  {
   "cell_type": "code",
   "execution_count": 42,
   "id": "34dcef94",
   "metadata": {
    "execution": {
     "iopub.execute_input": "2025-03-07T01:51:28.216236Z",
     "iopub.status.busy": "2025-03-07T01:51:28.215829Z",
     "iopub.status.idle": "2025-03-07T01:51:28.236454Z",
     "shell.execute_reply": "2025-03-07T01:51:28.235072Z"
    },
    "id": "rXQowJbyETIs",
    "papermill": {
     "duration": 0.047021,
     "end_time": "2025-03-07T01:51:28.238387",
     "exception": false,
     "start_time": "2025-03-07T01:51:28.191366",
     "status": "completed"
    },
    "tags": []
   },
   "outputs": [],
   "source": [
    "X_train, X_test, y_train, y_test = train_test_split(X_tfidf, y, test_size=0.2, random_state=42)\n"
   ]
  },
  {
   "cell_type": "code",
   "execution_count": 43,
   "id": "394ae2f2",
   "metadata": {
    "execution": {
     "iopub.execute_input": "2025-03-07T01:51:28.286608Z",
     "iopub.status.busy": "2025-03-07T01:51:28.286299Z",
     "iopub.status.idle": "2025-03-07T01:51:28.291757Z",
     "shell.execute_reply": "2025-03-07T01:51:28.290312Z"
    },
    "id": "2qAk8B-N6VqH",
    "papermill": {
     "duration": 0.036679,
     "end_time": "2025-03-07T01:51:28.293670",
     "exception": false,
     "start_time": "2025-03-07T01:51:28.256991",
     "status": "completed"
    },
    "tags": []
   },
   "outputs": [],
   "source": [
    "modelos = {\n",
    "    'DecisionTreeC': DecisionTreeClassifier(),\n",
    "    'GradientBoostingC': GradientBoostingClassifier(),\n",
    "    'K-Nearest Neighbors': KNeighborsClassifier(),\n",
    "    'LogisticRegression': LogisticRegression(max_iter=1000),\n",
    "    'RandomForestC': RandomForestClassifier(n_estimators=100),\n",
    "    'XGBC': xgb.XGBClassifier(n_estimators=100, seed=27)\n",
    "}"
   ]
  },
  {
   "cell_type": "code",
   "execution_count": 44,
   "id": "2ddab3f0",
   "metadata": {
    "execution": {
     "iopub.execute_input": "2025-03-07T01:51:28.335031Z",
     "iopub.status.busy": "2025-03-07T01:51:28.334699Z",
     "iopub.status.idle": "2025-03-07T01:55:40.009874Z",
     "shell.execute_reply": "2025-03-07T01:55:40.008575Z"
    },
    "id": "JoFhcQ-R6VqH",
    "outputId": "685e6183-e8f3-4668-c015-5cd5e380d6ba",
    "papermill": {
     "duration": 251.697824,
     "end_time": "2025-03-07T01:55:40.011531",
     "exception": false,
     "start_time": "2025-03-07T01:51:28.313707",
     "status": "completed"
    },
    "tags": []
   },
   "outputs": [
    {
     "name": "stdout",
     "output_type": "stream",
     "text": [
      "Modelo: DecisionTreeC\n",
      "Accuracy: 0.891\n",
      "-------------------------------------------------------\n",
      "Modelo: GradientBoostingC\n",
      "Accuracy: 0.895\n",
      "-------------------------------------------------------\n",
      "Modelo: K-Nearest Neighbors\n",
      "Accuracy: 0.892\n",
      "-------------------------------------------------------\n",
      "Modelo: LogisticRegression\n",
      "Accuracy: 0.913\n",
      "-------------------------------------------------------\n",
      "Modelo: RandomForestC\n",
      "Accuracy: 0.909\n",
      "-------------------------------------------------------\n",
      "Modelo: XGBC\n",
      "Accuracy: 0.908\n",
      "-------------------------------------------------------\n",
      "Mejor modelo: LogisticRegression(max_iter=1000) con un Accuracy de 0.913\n"
     ]
    }
   ],
   "source": [
    "mejor_modelo = 0\n",
    "mejor_acc = 0\n",
    "for nombre, modelo in modelos.items():\n",
    "\n",
    "    # Entrenar el modelo\n",
    "    modelo.fit(X_train, y_train)\n",
    "\n",
    "    # Predecir en el conjunto de prueba\n",
    "    y_pred = modelo.predict(X_test)\n",
    "    acc = accuracy_score(y_test, y_pred)\n",
    "\n",
    "    # Evaluar el rendimiento\n",
    "    resultado = re.search(r'(\\w+).*?\\(', str(modelo))\n",
    "    print(f\"Modelo: {nombre}\")\n",
    "    print(\"Accuracy:\", round(acc, 3))\n",
    "    print('-------------------------------------------------------')\n",
    "\n",
    "    if acc > mejor_acc:\n",
    "        mejor_modelo = modelo\n",
    "        mejor_acc = acc\n",
    "\n",
    "# Imprimir el mejor modelo al final\n",
    "print(f\"Mejor modelo: {mejor_modelo} con un Accuracy de {round(mejor_acc, 3)}\")"
   ]
  },
  {
   "cell_type": "code",
   "execution_count": 45,
   "id": "b0d1af8e",
   "metadata": {
    "execution": {
     "iopub.execute_input": "2025-03-07T01:55:40.049723Z",
     "iopub.status.busy": "2025-03-07T01:55:40.049371Z",
     "iopub.status.idle": "2025-03-07T01:55:41.139551Z",
     "shell.execute_reply": "2025-03-07T01:55:41.138266Z"
    },
    "id": "OE9AaqpTl9UX",
    "outputId": "250e6ba3-f84e-4688-8454-9bcb0dee95c7",
    "papermill": {
     "duration": 1.111234,
     "end_time": "2025-03-07T01:55:41.141446",
     "exception": false,
     "start_time": "2025-03-07T01:55:40.030212",
     "status": "completed"
    },
    "tags": []
   },
   "outputs": [
    {
     "name": "stdout",
     "output_type": "stream",
     "text": [
      "Accuracy: 0.913\n",
      "Classification Report:\n",
      "               precision    recall  f1-score   support\n",
      "\n",
      "           0       0.78      0.40      0.53      3654\n",
      "           1       0.92      0.98      0.95     26290\n",
      "\n",
      "    accuracy                           0.91     29944\n",
      "   macro avg       0.85      0.69      0.74     29944\n",
      "weighted avg       0.90      0.91      0.90     29944\n",
      "\n"
     ]
    }
   ],
   "source": [
    "mejor_modelo.fit(X_train, y_train)\n",
    "\n",
    "y_pred = mejor_modelo.predict(X_test)\n",
    "\n",
    "# Evaluar el rendimiento\n",
    "print(\"Accuracy:\", round(accuracy_score(y_test, y_pred), 3))\n",
    "print(\"Classification Report:\\n\", classification_report(y_test, y_pred))"
   ]
  },
  {
   "cell_type": "markdown",
   "id": "eae949d2",
   "metadata": {
    "id": "UehPAVNcpTdB",
    "papermill": {
     "duration": 0.01787,
     "end_time": "2025-03-07T01:55:41.177687",
     "exception": false,
     "start_time": "2025-03-07T01:55:41.159817",
     "status": "completed"
    },
    "tags": []
   },
   "source": [
    "Llegamos a la conclusión de que LogisticRegressior parece ser el algoritmo que mejor generaliza de todos los vistos.\n",
    "\n",
    "Lo que más se destaca es la precisión y recall de los valores negativos, es la que mayor desempeño presentó. Los otros modelos tuvieron grandes problemas en clasificar los comentarios negativos."
   ]
  },
  {
   "cell_type": "markdown",
   "id": "d4d5acb8",
   "metadata": {
    "id": "wuymdcaYwZ09",
    "papermill": {
     "duration": 0.018977,
     "end_time": "2025-03-07T01:55:41.214987",
     "exception": false,
     "start_time": "2025-03-07T01:55:41.196010",
     "status": "completed"
    },
    "tags": []
   },
   "source": [
    "Podríamos decir que probablemente esto se debe al gran desbalance de datos. SIn embargo, los resultados son más que buenos, por lo que podríamos dejarlo así por ahora."
   ]
  },
  {
   "cell_type": "code",
   "execution_count": 46,
   "id": "9e42fd33",
   "metadata": {
    "execution": {
     "iopub.execute_input": "2025-03-07T01:55:41.254298Z",
     "iopub.status.busy": "2025-03-07T01:55:41.253979Z",
     "iopub.status.idle": "2025-03-07T01:55:41.405830Z",
     "shell.execute_reply": "2025-03-07T01:55:41.405053Z"
    },
    "id": "w5ALFxTkwZ09",
    "outputId": "af8d3b3c-26bf-47e7-99fa-eafcec438a3f",
    "papermill": {
     "duration": 0.172864,
     "end_time": "2025-03-07T01:55:41.407324",
     "exception": false,
     "start_time": "2025-03-07T01:55:41.234460",
     "status": "completed"
    },
    "tags": []
   },
   "outputs": [
    {
     "data": {
      "text/plain": [
       "<Axes: >"
      ]
     },
     "execution_count": 46,
     "metadata": {},
     "output_type": "execute_result"
    },
    {
     "data": {
      "image/png": "[encoded data removed]",
      "text/plain": [
       "<Figure size 640x480 with 2 Axes>"
      ]
     },
     "metadata": {},
     "output_type": "display_data"
    }
   ],
   "source": [
    "cm = confusion_matrix(y_test, y_pred)\n",
    "sns.heatmap(cm, annot=True, fmt='d')"
   ]
  },
  {
   "cell_type": "markdown",
   "id": "6b9b9cc6",
   "metadata": {
    "id": "la7sTackwZ09",
    "papermill": {
     "duration": 0.018109,
     "end_time": "2025-03-07T01:55:41.444886",
     "exception": false,
     "start_time": "2025-03-07T01:55:41.426777",
     "status": "completed"
    },
    "tags": []
   },
   "source": [
    "Matriz de confusión, podemos ver claramente que en porcentaje, el modelo tiene muchas más complicaciones discirniendo entre los negativos que los negativos."
   ]
  },
  {
   "cell_type": "markdown",
   "id": "48451df7",
   "metadata": {
    "id": "sE4FMaeJnerh",
    "papermill": {
     "duration": 0.018572,
     "end_time": "2025-03-07T01:55:41.482341",
     "exception": false,
     "start_time": "2025-03-07T01:55:41.463769",
     "status": "completed"
    },
    "tags": []
   },
   "source": [
    "## Visualización"
   ]
  },
  {
   "cell_type": "code",
   "execution_count": 47,
   "id": "89c14b10",
   "metadata": {
    "execution": {
     "iopub.execute_input": "2025-03-07T01:55:41.522305Z",
     "iopub.status.busy": "2025-03-07T01:55:41.521993Z",
     "iopub.status.idle": "2025-03-07T01:55:41.773522Z",
     "shell.execute_reply": "2025-03-07T01:55:41.772140Z"
    },
    "id": "io-mM2W-ndmk",
    "outputId": "9621fd60-e265-427f-9152-35837172c8b7",
    "papermill": {
     "duration": 0.274487,
     "end_time": "2025-03-07T01:55:41.775432",
     "exception": false,
     "start_time": "2025-03-07T01:55:41.500945",
     "status": "completed"
    },
    "tags": []
   },
   "outputs": [
    {
     "data": {
      "image/png": "[encoded data removed]",
      "text/plain": [
       "<Figure size 1200x800 with 1 Axes>"
      ]
     },
     "metadata": {},
     "output_type": "display_data"
    }
   ],
   "source": [
    "word_freq = np.asarray(X_tfidf.sum(axis=0)).flatten()\n",
    "words = tfidf_vectorizer.get_feature_names_out()\n",
    "word_freq_dict = dict(zip(words, word_freq))\n",
    "\n",
    "# Ordenar por frecuencia\n",
    "sorted_word_freq = sorted(word_freq_dict.items(), key=lambda x: x[1], reverse=True)\n",
    "\n",
    "# Convertir a DataFrame\n",
    "df_word_freq = pd.DataFrame(sorted_word_freq, columns=['Palabra', 'Frecuencia'])\n",
    "\n",
    "# Graficar las palabras más frecuentes\n",
    "plt.figure(figsize=(12, 8))\n",
    "sns.barplot(x='Frecuencia', y='Palabra', data=df_word_freq.head(20))\n",
    "plt.title('Palabras Más Frecuentes')\n",
    "plt.xlabel('Frecuencia')\n",
    "plt.ylabel('Palabra')\n",
    "plt.show()"
   ]
  },
  {
   "cell_type": "markdown",
   "id": "8b5fe40d",
   "metadata": {
    "id": "h_kFXs57wZ09",
    "papermill": {
     "duration": 0.020828,
     "end_time": "2025-03-07T01:55:41.816771",
     "exception": false,
     "start_time": "2025-03-07T01:55:41.795943",
     "status": "completed"
    },
    "tags": []
   },
   "source": [
    "# tokenizacion con lemas"
   ]
  },
  {
   "cell_type": "code",
   "execution_count": 48,
   "id": "b8c5069a",
   "metadata": {
    "execution": {
     "iopub.execute_input": "2025-03-07T01:55:41.859693Z",
     "iopub.status.busy": "2025-03-07T01:55:41.859300Z",
     "iopub.status.idle": "2025-03-07T01:55:42.586371Z",
     "shell.execute_reply": "2025-03-07T01:55:42.584930Z"
    },
    "id": "6ht2aLgJPy38",
    "papermill": {
     "duration": 0.750981,
     "end_time": "2025-03-07T01:55:42.588523",
     "exception": false,
     "start_time": "2025-03-07T01:55:41.837542",
     "status": "completed"
    },
    "tags": []
   },
   "outputs": [],
   "source": [
    "nlp = spacy.load('en_core_web_sm')\n",
    "\n",
    "def tokenizar_lematizar(texto):\n",
    "    doc = nlp(texto)\n",
    "\n",
    "    # Crear una lista de tokens lematizados\n",
    "    lemmas = [token.lemma_ for token in doc]\n",
    "    return lemmas"
   ]
  },
  {
   "cell_type": "markdown",
   "id": "b9545d9b",
   "metadata": {
    "id": "0aC3xiPJwZ0-",
    "papermill": {
     "duration": 0.019843,
     "end_time": "2025-03-07T01:55:42.628692",
     "exception": false,
     "start_time": "2025-03-07T01:55:42.608849",
     "status": "completed"
    },
    "tags": []
   },
   "source": [
    "A pesar de haber obtenido buenos resultados, se probó el méotodo de tokenización Word2Vec.\n",
    "\n",
    "Este método tuvo resultados levemente superiores pero se decidió no utilizarse por la cantidad de recursos y tiempo que consumía este método."
   ]
  },
  {
   "cell_type": "code",
   "execution_count": 49,
   "id": "625216de",
   "metadata": {
    "execution": {
     "iopub.execute_input": "2025-03-07T01:55:42.669586Z",
     "iopub.status.busy": "2025-03-07T01:55:42.669255Z",
     "iopub.status.idle": "2025-03-07T01:55:42.675939Z",
     "shell.execute_reply": "2025-03-07T01:55:42.674548Z"
    },
    "id": "9WG6utTjwZ0-",
    "outputId": "f582ee8a-21d7-4bbc-ee03-15cfb9b919fa",
    "papermill": {
     "duration": 0.029077,
     "end_time": "2025-03-07T01:55:42.677576",
     "exception": false,
     "start_time": "2025-03-07T01:55:42.648499",
     "status": "completed"
    },
    "tags": []
   },
   "outputs": [
    {
     "data": {
      "text/plain": [
       "\"\\nfrom gensim.models import Word2Vec\\n\\ntokenizados = df['content'].apply(tokenizar_lematizar)\\n\\n\\nmodel_w2vc = Word2Vec(sentences=tokenizados, vector_size=100, window=5, min_count=2, workers=4)\\n\\ndef get_average_word2vec(tokens, model):\\n    vectors = [model.wv[token] for token in tokens if token in model.wv]\\n    if len(vectors) > 0:\\n        return np.mean(vectors, axis=0)\\n    else:\\n        return np.zeros(model.vector_size)\\n\\n# Aplicar la función para obtener los vectores de características\\ndf['embeddings'] = df['content'].apply(lambda x: get_average_word2vec(tokenizar_lematizar(x), model_w2vc))\\n\\n# Convertir los embeddings a una matriz de características\\nX_w2v = np.vstack(df['embeddings'].values)\\n\""
      ]
     },
     "execution_count": 49,
     "metadata": {},
     "output_type": "execute_result"
    }
   ],
   "source": [
    "'''\n",
    "from gensim.models import Word2Vec\n",
    "\n",
    "tokenizados = df['content'].apply(tokenizar_lematizar)\n",
    "\n",
    "\n",
    "model_w2vc = Word2Vec(sentences=tokenizados, vector_size=100, window=5, min_count=2, workers=4)\n",
    "\n",
    "def get_average_word2vec(tokens, model):\n",
    "    vectors = [model.wv[token] for token in tokens if token in model.wv]\n",
    "    if len(vectors) > 0:\n",
    "        return np.mean(vectors, axis=0)\n",
    "    else:\n",
    "        return np.zeros(model.vector_size)\n",
    "\n",
    "# Aplicar la función para obtener los vectores de características\n",
    "df['embeddings'] = df['content'].apply(lambda x: get_average_word2vec(tokenizar_lematizar(x), model_w2vc))\n",
    "\n",
    "# Convertir los embeddings a una matriz de características\n",
    "X_w2v = np.vstack(df['embeddings'].values)\n",
    "'''"
   ]
  },
  {
   "cell_type": "markdown",
   "id": "b8728600",
   "metadata": {
    "id": "2e6ujFrWwZ0-",
    "papermill": {
     "duration": 0.020084,
     "end_time": "2025-03-07T01:55:42.719522",
     "exception": false,
     "start_time": "2025-03-07T01:55:42.699438",
     "status": "completed"
    },
    "tags": []
   },
   "source": [
    "Splits con tokenizadores"
   ]
  },
  {
   "cell_type": "code",
   "execution_count": 50,
   "id": "01e11c9e",
   "metadata": {
    "execution": {
     "iopub.execute_input": "2025-03-07T01:55:42.762983Z",
     "iopub.status.busy": "2025-03-07T01:55:42.762598Z",
     "iopub.status.idle": "2025-03-07T01:55:42.767295Z",
     "shell.execute_reply": "2025-03-07T01:55:42.765900Z"
    },
    "id": "XWIBC4oIwZ0-",
    "papermill": {
     "duration": 0.029669,
     "end_time": "2025-03-07T01:55:42.769763",
     "exception": false,
     "start_time": "2025-03-07T01:55:42.740094",
     "status": "completed"
    },
    "tags": []
   },
   "outputs": [],
   "source": [
    "\n",
    "#X_train_w2v, X_test_w2v, y_train_w2v, y_test_w2v = train_test_split(X_w2v, y, test_size=0.2, random_state=42)"
   ]
  },
  {
   "cell_type": "code",
   "execution_count": 51,
   "id": "9c38f95d",
   "metadata": {
    "execution": {
     "iopub.execute_input": "2025-03-07T01:55:42.811458Z",
     "iopub.status.busy": "2025-03-07T01:55:42.811078Z",
     "iopub.status.idle": "2025-03-07T01:55:42.817407Z",
     "shell.execute_reply": "2025-03-07T01:55:42.816250Z"
    },
    "id": "S61J3hm5wZ0_",
    "outputId": "fff12693-2fac-4eab-8a53-fe469d65eaa0",
    "papermill": {
     "duration": 0.028931,
     "end_time": "2025-03-07T01:55:42.819192",
     "exception": false,
     "start_time": "2025-03-07T01:55:42.790261",
     "status": "completed"
    },
    "tags": []
   },
   "outputs": [
    {
     "data": {
      "text/plain": [
       "'\\n#Variables para print limpio\\nmejor_modelo = 0\\nmejor_acc = 0\\n\\nfor nombre, modelo in modelos.items():\\n\\n    modelo.fit(X_train_w2v, y_train_w2v)\\n\\n    # Predecir con el nuevo train y test con w2v\\n    y_pred = modelo.predict(X_test_w2v)\\n    acc = accuracy_score(y_test_w2v, y_pred)\\n\\n    # Evaluar el rendimiento\\n    resultado = re.search(r\\'(\\\\w+).*?\\\\(\\', str(modelo))\\n    print(f\"Modelo: {nombre}\")\\n    print(\"Accuracy:\", round(acc, 3))\\n    print(\\'-------------------------------------------------------\\')\\n\\n    if acc > mejor_acc:\\n        mejor_modelo = modelo\\n        mejor_acc = acc\\n\\n# Imprimir el mejor modelo al final\\nprint(f\"Mejor modelo: {mejor_modelo} con un Accuracy de {round(mejor_acc, 3)}\")\\n'"
      ]
     },
     "execution_count": 51,
     "metadata": {},
     "output_type": "execute_result"
    }
   ],
   "source": [
    "'''\n",
    "#Variables para print limpio\n",
    "mejor_modelo = 0\n",
    "mejor_acc = 0\n",
    "\n",
    "for nombre, modelo in modelos.items():\n",
    "\n",
    "    modelo.fit(X_train_w2v, y_train_w2v)\n",
    "\n",
    "    # Predecir con el nuevo train y test con w2v\n",
    "    y_pred = modelo.predict(X_test_w2v)\n",
    "    acc = accuracy_score(y_test_w2v, y_pred)\n",
    "\n",
    "    # Evaluar el rendimiento\n",
    "    resultado = re.search(r'(\\w+).*?\\(', str(modelo))\n",
    "    print(f\"Modelo: {nombre}\")\n",
    "    print(\"Accuracy:\", round(acc, 3))\n",
    "    print('-------------------------------------------------------')\n",
    "\n",
    "    if acc > mejor_acc:\n",
    "        mejor_modelo = modelo\n",
    "        mejor_acc = acc\n",
    "\n",
    "# Imprimir el mejor modelo al final\n",
    "print(f\"Mejor modelo: {mejor_modelo} con un Accuracy de {round(mejor_acc, 3)}\")\n",
    "'''"
   ]
  },
  {
   "cell_type": "markdown",
   "id": "4666cdf1",
   "metadata": {
    "id": "GBNE3EpJwZ0_",
    "papermill": {
     "duration": 0.021245,
     "end_time": "2025-03-07T01:55:42.861385",
     "exception": false,
     "start_time": "2025-03-07T01:55:42.840140",
     "status": "completed"
    },
    "tags": []
   },
   "source": [
    "Print de la función anterior:\n",
    "\n",
    "Modelo: DecisionTreeC\n",
    "Accuracy: 0.928\n",
    "-------------------------------------------------------\n",
    "Modelo: GradientBoostingC\n",
    "Accuracy: 0.898\n",
    "-------------------------------------------------------\n",
    "Modelo: K-Nearest Neighbors\n",
    "Accuracy: 0.898\n",
    "-------------------------------------------------------\n",
    "Modelo: LogisticRegression\n",
    "Accuracy: 0.89\n",
    "-------------------------------------------------------\n",
    "Modelo: RandomForestC\n",
    "Accuracy: 0.95\n",
    "-------------------------------------------------------\n",
    "Modelo: XGBC\n",
    "Accuracy: 0.922\n",
    "-------------------------------------------------------\n",
    "\n",
    "Mejor modelo: RandomForestClassifier() con un Accuracy de 0.95"
   ]
  },
  {
   "cell_type": "markdown",
   "id": "e8425db9",
   "metadata": {
    "id": "bX9dgPodwZ1A",
    "papermill": {
     "duration": 0.020637,
     "end_time": "2025-03-07T01:55:42.904080",
     "exception": false,
     "start_time": "2025-03-07T01:55:42.883443",
     "status": "completed"
    },
    "tags": []
   },
   "source": [
    "-------------------------------------"
   ]
  },
  {
   "cell_type": "markdown",
   "id": "95c29e40",
   "metadata": {
    "id": "srYUBH45wZ1A",
    "papermill": {
     "duration": 0.020287,
     "end_time": "2025-03-07T01:55:42.945099",
     "exception": false,
     "start_time": "2025-03-07T01:55:42.924812",
     "status": "completed"
    },
    "tags": []
   },
   "source": [
    "Como podemos ver, la tokenización dió resultados levemente superior (+0,01)\n",
    "\n",
    "El texto preprocesado funciona levemente peor que utilizando estos métodos, sin embargo, considerando la cantidad de tiempo y recursos.\n",
    "\n",
    "Dicho esto, podemos concluir que la mejor opción para nuestro entrenamiento es utilizar el texto directamente preprocesado. sin posprocesamientos como la tokenización"
   ]
  },
  {
   "cell_type": "code",
   "execution_count": 52,
   "id": "8a64953a",
   "metadata": {
    "execution": {
     "iopub.execute_input": "2025-03-07T01:55:42.987004Z",
     "iopub.status.busy": "2025-03-07T01:55:42.986701Z",
     "iopub.status.idle": "2025-03-07T01:55:42.991713Z",
     "shell.execute_reply": "2025-03-07T01:55:42.990808Z"
    },
    "id": "34FtAFqFwZ1A",
    "outputId": "8b42809c-b5e1-4dac-abd6-ebaf03a28e45",
    "papermill": {
     "duration": 0.027503,
     "end_time": "2025-03-07T01:55:42.992996",
     "exception": false,
     "start_time": "2025-03-07T01:55:42.965493",
     "status": "completed"
    },
    "tags": []
   },
   "outputs": [
    {
     "data": {
      "text/plain": [
       "'mejor_modelo.fit(X_train, y_train)\\n\\ny_pred = mejor_modelo.predict(X_test)\\n\\n# Evaluar el rendimiento\\nprint(\"Accuracy:\", round(accuracy_score(y_test, y_pred), 3))\\nprint(\"Classification Report:\\n\", classification_report(y_test, y_pred))'"
      ]
     },
     "execution_count": 52,
     "metadata": {},
     "output_type": "execute_result"
    }
   ],
   "source": [
    "'''mejor_modelo.fit(X_train, y_train)\n",
    "\n",
    "y_pred = mejor_modelo.predict(X_test)\n",
    "\n",
    "# Evaluar el rendimiento\n",
    "print(\"Accuracy:\", round(accuracy_score(y_test, y_pred), 3))\n",
    "print(\"Classification Report:\\n\", classification_report(y_test, y_pred))'''"
   ]
  },
  {
   "cell_type": "markdown",
   "id": "b6deda70",
   "metadata": {
    "id": "FRky3ghCwZ1A",
    "papermill": {
     "duration": 0.020125,
     "end_time": "2025-03-07T01:55:43.036272",
     "exception": false,
     "start_time": "2025-03-07T01:55:43.016147",
     "status": "completed"
    },
    "tags": []
   },
   "source": [
    "print:\n",
    "\n",
    "    Accuracy: 0.95\n",
    "    Classification Report:\n",
    "                precision    recall  f1-score   support\n",
    "\n",
    "            0       0.89      0.81      0.85      7429\n",
    "            1       0.96      0.98      0.97     35161\n",
    "\n",
    "        accuracy                           0.95     42590\n",
    "    macro avg       0.93      0.90      0.91     42590\n",
    "    weighted avg       0.95      0.95      0.95     42590"
   ]
  },
  {
   "cell_type": "markdown",
   "id": "19c18fbc",
   "metadata": {
    "id": "ALjHNYKHqi9l",
    "papermill": {
     "duration": 0.020701,
     "end_time": "2025-03-07T01:55:43.076439",
     "exception": false,
     "start_time": "2025-03-07T01:55:43.055738",
     "status": "completed"
    },
    "tags": []
   },
   "source": [
    "# Validación en test"
   ]
  },
  {
   "cell_type": "markdown",
   "id": "a79f637f",
   "metadata": {
    "id": "GUyr0PTMrXSo",
    "papermill": {
     "duration": 0.020503,
     "end_time": "2025-03-07T01:55:43.117455",
     "exception": false,
     "start_time": "2025-03-07T01:55:43.096952",
     "status": "completed"
    },
    "tags": []
   },
   "source": [
    "Utilizaremos el dataset test para verificar su funcionamiento con datos NUNCA antes vistos. Si esto presenta un buen rendimiento, probablemente sea más probable que no esté overfitteado."
   ]
  },
  {
   "cell_type": "markdown",
   "id": "f6147905",
   "metadata": {
    "id": "yYvhIYsjvZ-S",
    "papermill": {
     "duration": 0.020513,
     "end_time": "2025-03-07T01:55:43.159697",
     "exception": false,
     "start_time": "2025-03-07T01:55:43.139184",
     "status": "completed"
    },
    "tags": []
   },
   "source": [
    "Para eso, tendremos que poner el dataset test en las mismas condiciones y formato que nuestro dataframe del train"
   ]
  },
  {
   "cell_type": "code",
   "execution_count": 53,
   "id": "6a800b7b",
   "metadata": {
    "execution": {
     "iopub.execute_input": "2025-03-07T01:55:43.201421Z",
     "iopub.status.busy": "2025-03-07T01:55:43.201076Z",
     "iopub.status.idle": "2025-03-07T01:55:57.753218Z",
     "shell.execute_reply": "2025-03-07T01:55:57.751814Z"
    },
    "id": "KgnmnWonvY7z",
    "papermill": {
     "duration": 14.574713,
     "end_time": "2025-03-07T01:55:57.755008",
     "exception": false,
     "start_time": "2025-03-07T01:55:43.180295",
     "status": "completed"
    },
    "tags": []
   },
   "outputs": [],
   "source": [
    "test = test[['score','content']]\n",
    "#Solo el preprocesamiento porque recordemos que a todos los datasets se les aplicó cleaning y normalización.\n",
    "test = aplicar_preprocesamiento(test)"
   ]
  },
  {
   "cell_type": "code",
   "execution_count": 54,
   "id": "67dac47d",
   "metadata": {
    "execution": {
     "iopub.execute_input": "2025-03-07T01:55:57.797179Z",
     "iopub.status.busy": "2025-03-07T01:55:57.796848Z",
     "iopub.status.idle": "2025-03-07T01:55:57.805492Z",
     "shell.execute_reply": "2025-03-07T01:55:57.804527Z"
    },
    "id": "YtMNQZQwwZ1B",
    "outputId": "9d45244a-beb1-4a00-a971-41228e745f5a",
    "papermill": {
     "duration": 0.031264,
     "end_time": "2025-03-07T01:55:57.806860",
     "exception": false,
     "start_time": "2025-03-07T01:55:57.775596",
     "status": "completed"
    },
    "tags": []
   },
   "outputs": [
    {
     "data": {
      "text/html": [
       "<div>\n",
       "<style scoped>\n",
       "    .dataframe tbody tr th:only-of-type {\n",
       "        vertical-align: middle;\n",
       "    }\n",
       "\n",
       "    .dataframe tbody tr th {\n",
       "        vertical-align: top;\n",
       "    }\n",
       "\n",
       "    .dataframe thead th {\n",
       "        text-align: right;\n",
       "    }\n",
       "</style>\n",
       "<table border=\"1\" class=\"dataframe\">\n",
       "  <thead>\n",
       "    <tr style=\"text-align: right;\">\n",
       "      <th></th>\n",
       "      <th>score</th>\n",
       "      <th>content</th>\n",
       "    </tr>\n",
       "  </thead>\n",
       "  <tbody>\n",
       "    <tr>\n",
       "      <th>0</th>\n",
       "      <td>1</td>\n",
       "      <td>excellent im impressed</td>\n",
       "    </tr>\n",
       "    <tr>\n",
       "      <th>1</th>\n",
       "      <td>1</td>\n",
       "      <td>perfect</td>\n",
       "    </tr>\n",
       "    <tr>\n",
       "      <th>2</th>\n",
       "      <td>1</td>\n",
       "      <td>helpfullove</td>\n",
       "    </tr>\n",
       "    <tr>\n",
       "      <th>3</th>\n",
       "      <td>1</td>\n",
       "      <td>amazing tools help lot work</td>\n",
       "    </tr>\n",
       "    <tr>\n",
       "      <th>4</th>\n",
       "      <td>0</td>\n",
       "      <td>enjoyed chatgpt last update ruined everything ...</td>\n",
       "    </tr>\n",
       "    <tr>\n",
       "      <th>...</th>\n",
       "      <td>...</td>\n",
       "      <td>...</td>\n",
       "    </tr>\n",
       "    <tr>\n",
       "      <th>149714</th>\n",
       "      <td>1</td>\n",
       "      <td>update 2023</td>\n",
       "    </tr>\n",
       "    <tr>\n",
       "      <th>149715</th>\n",
       "      <td>1</td>\n",
       "      <td>grear</td>\n",
       "    </tr>\n",
       "    <tr>\n",
       "      <th>149716</th>\n",
       "      <td>1</td>\n",
       "      <td>funtastic app</td>\n",
       "    </tr>\n",
       "    <tr>\n",
       "      <th>149717</th>\n",
       "      <td>1</td>\n",
       "      <td>hi</td>\n",
       "    </tr>\n",
       "    <tr>\n",
       "      <th>149718</th>\n",
       "      <td>1</td>\n",
       "      <td>expert application</td>\n",
       "    </tr>\n",
       "  </tbody>\n",
       "</table>\n",
       "<p>149719 rows × 2 columns</p>\n",
       "</div>"
      ],
      "text/plain": [
       "        score                                            content\n",
       "0           1                             excellent im impressed\n",
       "1           1                                            perfect\n",
       "2           1                                        helpfullove\n",
       "3           1                        amazing tools help lot work\n",
       "4           0  enjoyed chatgpt last update ruined everything ...\n",
       "...       ...                                                ...\n",
       "149714      1                                        update 2023\n",
       "149715      1                                              grear\n",
       "149716      1                                      funtastic app\n",
       "149717      1                                                 hi\n",
       "149718      1                                 expert application\n",
       "\n",
       "[149719 rows x 2 columns]"
      ]
     },
     "execution_count": 54,
     "metadata": {},
     "output_type": "execute_result"
    }
   ],
   "source": [
    "test"
   ]
  },
  {
   "cell_type": "markdown",
   "id": "93190b58",
   "metadata": {
    "id": "kr7prOFBwZ1B",
    "papermill": {
     "duration": 0.020422,
     "end_time": "2025-03-07T01:55:57.848573",
     "exception": false,
     "start_time": "2025-03-07T01:55:57.828151",
     "status": "completed"
    },
    "tags": []
   },
   "source": [
    "Al estar comentado toda la sección de prueba con tokenbización no haría falta esto, pero si se descomentase la tokenización habría que splitear y definir mejor_modelo nuevamente"
   ]
  },
  {
   "cell_type": "code",
   "execution_count": 55,
   "id": "256a8f6b",
   "metadata": {
    "execution": {
     "iopub.execute_input": "2025-03-07T01:55:57.891215Z",
     "iopub.status.busy": "2025-03-07T01:55:57.890894Z",
     "iopub.status.idle": "2025-03-07T01:55:58.816052Z",
     "shell.execute_reply": "2025-03-07T01:55:58.814894Z"
    },
    "id": "KJYR_QqPwZ1B",
    "papermill": {
     "duration": 0.948756,
     "end_time": "2025-03-07T01:55:58.817883",
     "exception": false,
     "start_time": "2025-03-07T01:55:57.869127",
     "status": "completed"
    },
    "tags": []
   },
   "outputs": [],
   "source": [
    "#Entrenamos el modelo con df\n",
    "tfidf_vectorizer = TfidfVectorizer(max_features=5000, stop_words='english')\n",
    "X_tfidf = tfidf_vectorizer.fit_transform(df['content'])\n",
    "y = df['score']\n",
    "\n",
    "\n",
    "X_train, X_test, y_train, y_test = train_test_split(X_tfidf, y, test_size=0.2, random_state=42)\n"
   ]
  },
  {
   "cell_type": "code",
   "execution_count": 56,
   "id": "c2471dbb",
   "metadata": {
    "execution": {
     "iopub.execute_input": "2025-03-07T01:55:58.861256Z",
     "iopub.status.busy": "2025-03-07T01:55:58.860948Z",
     "iopub.status.idle": "2025-03-07T01:58:46.525941Z",
     "shell.execute_reply": "2025-03-07T01:58:46.524740Z"
    },
    "id": "8MHA-xf2qiy5",
    "papermill": {
     "duration": 167.688111,
     "end_time": "2025-03-07T01:58:46.527561",
     "exception": false,
     "start_time": "2025-03-07T01:55:58.839450",
     "status": "completed"
    },
    "tags": []
   },
   "outputs": [],
   "source": [
    "\n",
    "# Entrenamos el modelo\n",
    "mejor_modelo = RandomForestClassifier(n_estimators=100)\n",
    "mejor_modelo.fit(X_train, y_train)\n",
    "\n",
    "\n",
    "# Predecimos probabilidades de 0 a 1 en test para ver la distribución de las predicciones\n",
    "X_tfidf_test = tfidf_vectorizer.transform(test['content'])\n",
    "y_pred_proba = mejor_modelo.predict_proba(X_tfidf_test)[:, 1]\n"
   ]
  },
  {
   "cell_type": "code",
   "execution_count": 57,
   "id": "4ff5d63b",
   "metadata": {
    "execution": {
     "iopub.execute_input": "2025-03-07T01:58:46.570612Z",
     "iopub.status.busy": "2025-03-07T01:58:46.570230Z",
     "iopub.status.idle": "2025-03-07T01:58:46.747413Z",
     "shell.execute_reply": "2025-03-07T01:58:46.746116Z"
    },
    "id": "ickcY4ziwZ1C",
    "outputId": "c98f1f28-bafc-4e37-c43f-eb42fa9bbc27",
    "papermill": {
     "duration": 0.200281,
     "end_time": "2025-03-07T01:58:46.749414",
     "exception": false,
     "start_time": "2025-03-07T01:58:46.549133",
     "status": "completed"
    },
    "tags": []
   },
   "outputs": [
    {
     "data": {
      "image/png": "[encoded data removed]",
      "text/plain": [
       "<Figure size 640x480 with 1 Axes>"
      ]
     },
     "metadata": {},
     "output_type": "display_data"
    }
   ],
   "source": [
    "plt.hist(y_pred_proba, bins=50)\n",
    "plt.title(\"Distribución de probabilidades predichas para la clase 1\")\n",
    "plt.show()"
   ]
  },
  {
   "cell_type": "markdown",
   "id": "b5dfc43b",
   "metadata": {
    "id": "cIchwgsWwZ1C",
    "papermill": {
     "duration": 0.02018,
     "end_time": "2025-03-07T01:58:46.791205",
     "exception": false,
     "start_time": "2025-03-07T01:58:46.771025",
     "status": "completed"
    },
    "tags": []
   },
   "source": [
    "Podemos ver una gran diferenciación entre los buenos y malos, hay poco valores que se encuentren entre 0.4 y 0.6.\n",
    "\n",
    "## Ajuste de umbral de decisión\n",
    "\n",
    "Tal vez si movemos el umbral a 0.6 para los negativos, el modelo podría tener mayor accuracy."
   ]
  },
  {
   "cell_type": "code",
   "execution_count": 58,
   "id": "c958c446",
   "metadata": {
    "execution": {
     "iopub.execute_input": "2025-03-07T01:58:46.832847Z",
     "iopub.status.busy": "2025-03-07T01:58:46.832492Z",
     "iopub.status.idle": "2025-03-07T01:58:46.990400Z",
     "shell.execute_reply": "2025-03-07T01:58:46.989326Z"
    },
    "id": "a6JgIeXCwZ1C",
    "outputId": "e02d9023-d773-458d-ec6d-267b170816b9",
    "papermill": {
     "duration": 0.180422,
     "end_time": "2025-03-07T01:58:46.992230",
     "exception": false,
     "start_time": "2025-03-07T01:58:46.811808",
     "status": "completed"
    },
    "tags": []
   },
   "outputs": [
    {
     "name": "stdout",
     "output_type": "stream",
     "text": [
      "Accuracy: 0.9561845857907146\n",
      "Classification Report:\n",
      "               precision    recall  f1-score   support\n",
      "\n",
      "           0       0.90      0.72      0.80     18400\n",
      "           1       0.96      0.99      0.98    131319\n",
      "\n",
      "    accuracy                           0.96    149719\n",
      "   macro avg       0.93      0.85      0.89    149719\n",
      "weighted avg       0.95      0.96      0.95    149719\n",
      "\n"
     ]
    }
   ],
   "source": [
    "# Ajustamos manualmente el umbral\n",
    "umbral = 0.60\n",
    "y_pred_ajustado= (y_pred_proba >= umbral).astype(int)\n",
    "\n",
    "\n",
    "# 5. Evaluar el rendimiento\n",
    "print(\"Accuracy:\", accuracy_score(test['score'], y_pred_ajustado))\n",
    "print(\"Classification Report:\\n\", classification_report(test['score'], y_pred_ajustado))"
   ]
  },
  {
   "cell_type": "code",
   "execution_count": 59,
   "id": "c112dad5",
   "metadata": {
    "execution": {
     "iopub.execute_input": "2025-03-07T01:58:47.039062Z",
     "iopub.status.busy": "2025-03-07T01:58:47.038737Z",
     "iopub.status.idle": "2025-03-07T01:58:47.218605Z",
     "shell.execute_reply": "2025-03-07T01:58:47.217105Z"
    },
    "id": "C8_y628LwZ1C",
    "outputId": "7bfc2c68-9fa0-4cbf-852d-6ffb735484e2",
    "papermill": {
     "duration": 0.203869,
     "end_time": "2025-03-07T01:58:47.220744",
     "exception": false,
     "start_time": "2025-03-07T01:58:47.016875",
     "status": "completed"
    },
    "tags": []
   },
   "outputs": [
    {
     "data": {
      "text/plain": [
       "<Axes: >"
      ]
     },
     "execution_count": 59,
     "metadata": {},
     "output_type": "execute_result"
    },
    {
     "data": {
      "image/png": "[encoded data removed]",
      "text/plain": [
       "<Figure size 640x480 with 2 Axes>"
      ]
     },
     "metadata": {},
     "output_type": "display_data"
    }
   ],
   "source": [
    "cm = confusion_matrix(test['score'], y_pred_ajustado)\n",
    "sns.heatmap(cm, annot=True, fmt='d')"
   ]
  },
  {
   "cell_type": "markdown",
   "id": "47dc1780",
   "metadata": {
    "id": "YgBSt6UbwZ1C",
    "papermill": {
     "duration": 0.021019,
     "end_time": "2025-03-07T01:58:47.264729",
     "exception": false,
     "start_time": "2025-03-07T01:58:47.243710",
     "status": "completed"
    },
    "tags": []
   },
   "source": [
    "Luego de probar manualmente con varios umbrales, llegamos a la conclusión de que 0.6 es un umbral más que óptimo para el correcto funcionamiento del modelo.\n",
    "\n",
    "Habiendo llegado a estos resultados, podríamos llegar a la conclusión de que el modelo no está overfitteado, ya que tuvo un muy buen rendimiento con 130mil datos nunca antes vistos."
   ]
  },
  {
   "cell_type": "markdown",
   "id": "760ba4c3",
   "metadata": {
    "id": "DBCNVj1hOGwe",
    "papermill": {
     "duration": 0.020468,
     "end_time": "2025-03-07T01:58:47.305988",
     "exception": false,
     "start_time": "2025-03-07T01:58:47.285520",
     "status": "completed"
    },
    "tags": []
   },
   "source": [
    "# 💪🏼Resultados"
   ]
  },
  {
   "cell_type": "markdown",
   "id": "34f0df6c",
   "metadata": {
    "id": "K3Luly-EiYTL",
    "papermill": {
     "duration": 0.022225,
     "end_time": "2025-03-07T01:58:47.349521",
     "exception": false,
     "start_time": "2025-03-07T01:58:47.327296",
     "status": "completed"
    },
    "tags": []
   },
   "source": [
    "El modelo tiene un excelente rendimiento considerando que fue aplicado a un dataset completamente nuevo para él.\n",
    "\n",
    "Como se hipotetizaba al inicio, el recall tiene un bajo porcentaje debido a la poca cantidad de datos en el rango de los negativos.\n",
    "\n",
    "A pesar de eso, se pudo llegar a una generalización correcta y este modelo estaría listo para el deployment u aplicación en otros datasets del mismo ámbito."
   ]
  }
 ],
 "metadata": {
  "colab": {
   "provenance": [],
   "toc_visible": true
  },
  "kaggle": {
   "accelerator": "none",
   "dataSources": [
    {
     "datasetId": 5308018,
     "sourceId": 8822992,
     "sourceType": "datasetVersion"
    },
    {
     "datasetId": 4997049,
     "sourceId": 10942904,
     "sourceType": "datasetVersion"
    },
    {
     "datasetId": 5419546,
     "sourceId": 8997246,
     "sourceType": "datasetVersion"
    }
   ],
   "dockerImageVersionId": 30918,
   "isGpuEnabled": false,
   "isInternetEnabled": true,
   "language": "python",
   "sourceType": "notebook"
  },
  "kernelspec": {
   "display_name": "Python 3",
   "language": "python",
   "name": "python3"
  },
  "language_info": {
   "codemirror_mode": {
    "name": "ipython",
    "version": 3
   },
   "file_extension": ".py",
   "mimetype": "text/x-python",
   "name": "python",
   "nbconvert_exporter": "python",
   "pygments_lexer": "ipython3",
   "version": "3.10.12"
  },
  "papermill": {
   "default_parameters": {},
   "duration": 500.800923,
   "end_time": "2025-03-07T01:58:50.373994",
   "environment_variables": {},
   "exception": null,
   "input_path": "__notebook__.ipynb",
   "output_path": "__notebook__.ipynb",
   "parameters": {},
   "start_time": "2025-03-07T01:50:29.573071",
   "version": "2.6.0"
  }
 },
 "nbformat": 4,
 "nbformat_minor": 5
}
